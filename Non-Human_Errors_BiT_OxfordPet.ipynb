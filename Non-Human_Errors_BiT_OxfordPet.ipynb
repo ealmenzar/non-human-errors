{
  "nbformat": 4,
  "nbformat_minor": 0,
  "metadata": {
    "colab": {
      "name": "Non-HumanErrors_BiT_OxfordPet.ipynb",
      "provenance": [],
      "collapsed_sections": [],
      "authorship_tag": "ABX9TyOf4nDU5i1b+ncW/d0TA+ZN",
      "include_colab_link": true
    },
    "kernelspec": {
      "name": "python3",
      "display_name": "Python 3"
    },
    "language_info": {
      "name": "python"
    },
    "accelerator": "GPU",
    "widgets": {
      "application/vnd.jupyter.widget-state+json": {
        "24ea81cd830749e4a3935bd5fb18154b": {
          "model_module": "@jupyter-widgets/controls",
          "model_name": "HBoxModel",
          "model_module_version": "1.5.0",
          "state": {
            "_dom_classes": [],
            "_model_module": "@jupyter-widgets/controls",
            "_model_module_version": "1.5.0",
            "_model_name": "HBoxModel",
            "_view_count": null,
            "_view_module": "@jupyter-widgets/controls",
            "_view_module_version": "1.5.0",
            "_view_name": "HBoxView",
            "box_style": "",
            "children": [
              "IPY_MODEL_68be26ce8e75455fb1890ab759f8a77a",
              "IPY_MODEL_bc120f751c734cd4831efd011aac96ae",
              "IPY_MODEL_8c0472b816474a6bb900f39498f17573"
            ],
            "layout": "IPY_MODEL_b582d9921a86483f9ec9c0440fadd272"
          }
        },
        "68be26ce8e75455fb1890ab759f8a77a": {
          "model_module": "@jupyter-widgets/controls",
          "model_name": "HTMLModel",
          "model_module_version": "1.5.0",
          "state": {
            "_dom_classes": [],
            "_model_module": "@jupyter-widgets/controls",
            "_model_module_version": "1.5.0",
            "_model_name": "HTMLModel",
            "_view_count": null,
            "_view_module": "@jupyter-widgets/controls",
            "_view_module_version": "1.5.0",
            "_view_name": "HTMLView",
            "description": "",
            "description_tooltip": null,
            "layout": "IPY_MODEL_a3ced8ab308f456d84987a3100e5216e",
            "placeholder": "​",
            "style": "IPY_MODEL_b0ed9e7e72ff4489a80c8a211e6c6a4d",
            "value": "Dl Completed...: 100%"
          }
        },
        "bc120f751c734cd4831efd011aac96ae": {
          "model_module": "@jupyter-widgets/controls",
          "model_name": "FloatProgressModel",
          "model_module_version": "1.5.0",
          "state": {
            "_dom_classes": [],
            "_model_module": "@jupyter-widgets/controls",
            "_model_module_version": "1.5.0",
            "_model_name": "FloatProgressModel",
            "_view_count": null,
            "_view_module": "@jupyter-widgets/controls",
            "_view_module_version": "1.5.0",
            "_view_name": "ProgressView",
            "bar_style": "success",
            "description": "",
            "description_tooltip": null,
            "layout": "IPY_MODEL_c399424f7bcb4c4f873bdfc9d9a65df7",
            "max": 1,
            "min": 0,
            "orientation": "horizontal",
            "style": "IPY_MODEL_74f90eda949f450c838dd3d8c96f8a67",
            "value": 1
          }
        },
        "8c0472b816474a6bb900f39498f17573": {
          "model_module": "@jupyter-widgets/controls",
          "model_name": "HTMLModel",
          "model_module_version": "1.5.0",
          "state": {
            "_dom_classes": [],
            "_model_module": "@jupyter-widgets/controls",
            "_model_module_version": "1.5.0",
            "_model_name": "HTMLModel",
            "_view_count": null,
            "_view_module": "@jupyter-widgets/controls",
            "_view_module_version": "1.5.0",
            "_view_name": "HTMLView",
            "description": "",
            "description_tooltip": null,
            "layout": "IPY_MODEL_cc80be0cad494aca98775008706e8bc5",
            "placeholder": "​",
            "style": "IPY_MODEL_efe10f322f804ca79ed9d043836368f9",
            "value": " 2/2 [00:32&lt;00:00, 15.00s/ url]"
          }
        },
        "b582d9921a86483f9ec9c0440fadd272": {
          "model_module": "@jupyter-widgets/base",
          "model_name": "LayoutModel",
          "model_module_version": "1.2.0",
          "state": {
            "_model_module": "@jupyter-widgets/base",
            "_model_module_version": "1.2.0",
            "_model_name": "LayoutModel",
            "_view_count": null,
            "_view_module": "@jupyter-widgets/base",
            "_view_module_version": "1.2.0",
            "_view_name": "LayoutView",
            "align_content": null,
            "align_items": null,
            "align_self": null,
            "border": null,
            "bottom": null,
            "display": null,
            "flex": null,
            "flex_flow": null,
            "grid_area": null,
            "grid_auto_columns": null,
            "grid_auto_flow": null,
            "grid_auto_rows": null,
            "grid_column": null,
            "grid_gap": null,
            "grid_row": null,
            "grid_template_areas": null,
            "grid_template_columns": null,
            "grid_template_rows": null,
            "height": null,
            "justify_content": null,
            "justify_items": null,
            "left": null,
            "margin": null,
            "max_height": null,
            "max_width": null,
            "min_height": null,
            "min_width": null,
            "object_fit": null,
            "object_position": null,
            "order": null,
            "overflow": null,
            "overflow_x": null,
            "overflow_y": null,
            "padding": null,
            "right": null,
            "top": null,
            "visibility": null,
            "width": null
          }
        },
        "a3ced8ab308f456d84987a3100e5216e": {
          "model_module": "@jupyter-widgets/base",
          "model_name": "LayoutModel",
          "model_module_version": "1.2.0",
          "state": {
            "_model_module": "@jupyter-widgets/base",
            "_model_module_version": "1.2.0",
            "_model_name": "LayoutModel",
            "_view_count": null,
            "_view_module": "@jupyter-widgets/base",
            "_view_module_version": "1.2.0",
            "_view_name": "LayoutView",
            "align_content": null,
            "align_items": null,
            "align_self": null,
            "border": null,
            "bottom": null,
            "display": null,
            "flex": null,
            "flex_flow": null,
            "grid_area": null,
            "grid_auto_columns": null,
            "grid_auto_flow": null,
            "grid_auto_rows": null,
            "grid_column": null,
            "grid_gap": null,
            "grid_row": null,
            "grid_template_areas": null,
            "grid_template_columns": null,
            "grid_template_rows": null,
            "height": null,
            "justify_content": null,
            "justify_items": null,
            "left": null,
            "margin": null,
            "max_height": null,
            "max_width": null,
            "min_height": null,
            "min_width": null,
            "object_fit": null,
            "object_position": null,
            "order": null,
            "overflow": null,
            "overflow_x": null,
            "overflow_y": null,
            "padding": null,
            "right": null,
            "top": null,
            "visibility": null,
            "width": null
          }
        },
        "b0ed9e7e72ff4489a80c8a211e6c6a4d": {
          "model_module": "@jupyter-widgets/controls",
          "model_name": "DescriptionStyleModel",
          "model_module_version": "1.5.0",
          "state": {
            "_model_module": "@jupyter-widgets/controls",
            "_model_module_version": "1.5.0",
            "_model_name": "DescriptionStyleModel",
            "_view_count": null,
            "_view_module": "@jupyter-widgets/base",
            "_view_module_version": "1.2.0",
            "_view_name": "StyleView",
            "description_width": ""
          }
        },
        "c399424f7bcb4c4f873bdfc9d9a65df7": {
          "model_module": "@jupyter-widgets/base",
          "model_name": "LayoutModel",
          "model_module_version": "1.2.0",
          "state": {
            "_model_module": "@jupyter-widgets/base",
            "_model_module_version": "1.2.0",
            "_model_name": "LayoutModel",
            "_view_count": null,
            "_view_module": "@jupyter-widgets/base",
            "_view_module_version": "1.2.0",
            "_view_name": "LayoutView",
            "align_content": null,
            "align_items": null,
            "align_self": null,
            "border": null,
            "bottom": null,
            "display": null,
            "flex": null,
            "flex_flow": null,
            "grid_area": null,
            "grid_auto_columns": null,
            "grid_auto_flow": null,
            "grid_auto_rows": null,
            "grid_column": null,
            "grid_gap": null,
            "grid_row": null,
            "grid_template_areas": null,
            "grid_template_columns": null,
            "grid_template_rows": null,
            "height": null,
            "justify_content": null,
            "justify_items": null,
            "left": null,
            "margin": null,
            "max_height": null,
            "max_width": null,
            "min_height": null,
            "min_width": null,
            "object_fit": null,
            "object_position": null,
            "order": null,
            "overflow": null,
            "overflow_x": null,
            "overflow_y": null,
            "padding": null,
            "right": null,
            "top": null,
            "visibility": null,
            "width": "20px"
          }
        },
        "74f90eda949f450c838dd3d8c96f8a67": {
          "model_module": "@jupyter-widgets/controls",
          "model_name": "ProgressStyleModel",
          "model_module_version": "1.5.0",
          "state": {
            "_model_module": "@jupyter-widgets/controls",
            "_model_module_version": "1.5.0",
            "_model_name": "ProgressStyleModel",
            "_view_count": null,
            "_view_module": "@jupyter-widgets/base",
            "_view_module_version": "1.2.0",
            "_view_name": "StyleView",
            "bar_color": null,
            "description_width": ""
          }
        },
        "cc80be0cad494aca98775008706e8bc5": {
          "model_module": "@jupyter-widgets/base",
          "model_name": "LayoutModel",
          "model_module_version": "1.2.0",
          "state": {
            "_model_module": "@jupyter-widgets/base",
            "_model_module_version": "1.2.0",
            "_model_name": "LayoutModel",
            "_view_count": null,
            "_view_module": "@jupyter-widgets/base",
            "_view_module_version": "1.2.0",
            "_view_name": "LayoutView",
            "align_content": null,
            "align_items": null,
            "align_self": null,
            "border": null,
            "bottom": null,
            "display": null,
            "flex": null,
            "flex_flow": null,
            "grid_area": null,
            "grid_auto_columns": null,
            "grid_auto_flow": null,
            "grid_auto_rows": null,
            "grid_column": null,
            "grid_gap": null,
            "grid_row": null,
            "grid_template_areas": null,
            "grid_template_columns": null,
            "grid_template_rows": null,
            "height": null,
            "justify_content": null,
            "justify_items": null,
            "left": null,
            "margin": null,
            "max_height": null,
            "max_width": null,
            "min_height": null,
            "min_width": null,
            "object_fit": null,
            "object_position": null,
            "order": null,
            "overflow": null,
            "overflow_x": null,
            "overflow_y": null,
            "padding": null,
            "right": null,
            "top": null,
            "visibility": null,
            "width": null
          }
        },
        "efe10f322f804ca79ed9d043836368f9": {
          "model_module": "@jupyter-widgets/controls",
          "model_name": "DescriptionStyleModel",
          "model_module_version": "1.5.0",
          "state": {
            "_model_module": "@jupyter-widgets/controls",
            "_model_module_version": "1.5.0",
            "_model_name": "DescriptionStyleModel",
            "_view_count": null,
            "_view_module": "@jupyter-widgets/base",
            "_view_module_version": "1.2.0",
            "_view_name": "StyleView",
            "description_width": ""
          }
        },
        "5c380eefbdd94aa6b40b50c2f371dcc6": {
          "model_module": "@jupyter-widgets/controls",
          "model_name": "HBoxModel",
          "model_module_version": "1.5.0",
          "state": {
            "_dom_classes": [],
            "_model_module": "@jupyter-widgets/controls",
            "_model_module_version": "1.5.0",
            "_model_name": "HBoxModel",
            "_view_count": null,
            "_view_module": "@jupyter-widgets/controls",
            "_view_module_version": "1.5.0",
            "_view_name": "HBoxView",
            "box_style": "",
            "children": [
              "IPY_MODEL_fd146c9c90164038bbdb4c76e6ef62c0",
              "IPY_MODEL_b37bdbdb0b604bca9831a37b7267f836",
              "IPY_MODEL_af448861f2d24218a9511f2f27ff7300"
            ],
            "layout": "IPY_MODEL_e8dc0d18d85d41b18968a76f6379fbaa"
          }
        },
        "fd146c9c90164038bbdb4c76e6ef62c0": {
          "model_module": "@jupyter-widgets/controls",
          "model_name": "HTMLModel",
          "model_module_version": "1.5.0",
          "state": {
            "_dom_classes": [],
            "_model_module": "@jupyter-widgets/controls",
            "_model_module_version": "1.5.0",
            "_model_name": "HTMLModel",
            "_view_count": null,
            "_view_module": "@jupyter-widgets/controls",
            "_view_module_version": "1.5.0",
            "_view_name": "HTMLView",
            "description": "",
            "description_tooltip": null,
            "layout": "IPY_MODEL_3159074698844b8b814636551b24221e",
            "placeholder": "​",
            "style": "IPY_MODEL_71e192357d024adbbed5acb69d3bd734",
            "value": "Dl Size...: 100%"
          }
        },
        "b37bdbdb0b604bca9831a37b7267f836": {
          "model_module": "@jupyter-widgets/controls",
          "model_name": "FloatProgressModel",
          "model_module_version": "1.5.0",
          "state": {
            "_dom_classes": [],
            "_model_module": "@jupyter-widgets/controls",
            "_model_module_version": "1.5.0",
            "_model_name": "FloatProgressModel",
            "_view_count": null,
            "_view_module": "@jupyter-widgets/controls",
            "_view_module_version": "1.5.0",
            "_view_name": "ProgressView",
            "bar_style": "success",
            "description": "",
            "description_tooltip": null,
            "layout": "IPY_MODEL_ca8b1456789149c2b73120f41fbc1b02",
            "max": 1,
            "min": 0,
            "orientation": "horizontal",
            "style": "IPY_MODEL_c65b21268aa347d99e5f87a7dcb4774a",
            "value": 1
          }
        },
        "af448861f2d24218a9511f2f27ff7300": {
          "model_module": "@jupyter-widgets/controls",
          "model_name": "HTMLModel",
          "model_module_version": "1.5.0",
          "state": {
            "_dom_classes": [],
            "_model_module": "@jupyter-widgets/controls",
            "_model_module_version": "1.5.0",
            "_model_name": "HTMLModel",
            "_view_count": null,
            "_view_module": "@jupyter-widgets/controls",
            "_view_module_version": "1.5.0",
            "_view_name": "HTMLView",
            "description": "",
            "description_tooltip": null,
            "layout": "IPY_MODEL_f47f6570ef8a4da7afb0e82f5c489a25",
            "placeholder": "​",
            "style": "IPY_MODEL_cd38b41c0f824837b89a927170b830e9",
            "value": " 773/773 [00:32&lt;00:00, 34.23 MiB/s]"
          }
        },
        "e8dc0d18d85d41b18968a76f6379fbaa": {
          "model_module": "@jupyter-widgets/base",
          "model_name": "LayoutModel",
          "model_module_version": "1.2.0",
          "state": {
            "_model_module": "@jupyter-widgets/base",
            "_model_module_version": "1.2.0",
            "_model_name": "LayoutModel",
            "_view_count": null,
            "_view_module": "@jupyter-widgets/base",
            "_view_module_version": "1.2.0",
            "_view_name": "LayoutView",
            "align_content": null,
            "align_items": null,
            "align_self": null,
            "border": null,
            "bottom": null,
            "display": null,
            "flex": null,
            "flex_flow": null,
            "grid_area": null,
            "grid_auto_columns": null,
            "grid_auto_flow": null,
            "grid_auto_rows": null,
            "grid_column": null,
            "grid_gap": null,
            "grid_row": null,
            "grid_template_areas": null,
            "grid_template_columns": null,
            "grid_template_rows": null,
            "height": null,
            "justify_content": null,
            "justify_items": null,
            "left": null,
            "margin": null,
            "max_height": null,
            "max_width": null,
            "min_height": null,
            "min_width": null,
            "object_fit": null,
            "object_position": null,
            "order": null,
            "overflow": null,
            "overflow_x": null,
            "overflow_y": null,
            "padding": null,
            "right": null,
            "top": null,
            "visibility": null,
            "width": null
          }
        },
        "3159074698844b8b814636551b24221e": {
          "model_module": "@jupyter-widgets/base",
          "model_name": "LayoutModel",
          "model_module_version": "1.2.0",
          "state": {
            "_model_module": "@jupyter-widgets/base",
            "_model_module_version": "1.2.0",
            "_model_name": "LayoutModel",
            "_view_count": null,
            "_view_module": "@jupyter-widgets/base",
            "_view_module_version": "1.2.0",
            "_view_name": "LayoutView",
            "align_content": null,
            "align_items": null,
            "align_self": null,
            "border": null,
            "bottom": null,
            "display": null,
            "flex": null,
            "flex_flow": null,
            "grid_area": null,
            "grid_auto_columns": null,
            "grid_auto_flow": null,
            "grid_auto_rows": null,
            "grid_column": null,
            "grid_gap": null,
            "grid_row": null,
            "grid_template_areas": null,
            "grid_template_columns": null,
            "grid_template_rows": null,
            "height": null,
            "justify_content": null,
            "justify_items": null,
            "left": null,
            "margin": null,
            "max_height": null,
            "max_width": null,
            "min_height": null,
            "min_width": null,
            "object_fit": null,
            "object_position": null,
            "order": null,
            "overflow": null,
            "overflow_x": null,
            "overflow_y": null,
            "padding": null,
            "right": null,
            "top": null,
            "visibility": null,
            "width": null
          }
        },
        "71e192357d024adbbed5acb69d3bd734": {
          "model_module": "@jupyter-widgets/controls",
          "model_name": "DescriptionStyleModel",
          "model_module_version": "1.5.0",
          "state": {
            "_model_module": "@jupyter-widgets/controls",
            "_model_module_version": "1.5.0",
            "_model_name": "DescriptionStyleModel",
            "_view_count": null,
            "_view_module": "@jupyter-widgets/base",
            "_view_module_version": "1.2.0",
            "_view_name": "StyleView",
            "description_width": ""
          }
        },
        "ca8b1456789149c2b73120f41fbc1b02": {
          "model_module": "@jupyter-widgets/base",
          "model_name": "LayoutModel",
          "model_module_version": "1.2.0",
          "state": {
            "_model_module": "@jupyter-widgets/base",
            "_model_module_version": "1.2.0",
            "_model_name": "LayoutModel",
            "_view_count": null,
            "_view_module": "@jupyter-widgets/base",
            "_view_module_version": "1.2.0",
            "_view_name": "LayoutView",
            "align_content": null,
            "align_items": null,
            "align_self": null,
            "border": null,
            "bottom": null,
            "display": null,
            "flex": null,
            "flex_flow": null,
            "grid_area": null,
            "grid_auto_columns": null,
            "grid_auto_flow": null,
            "grid_auto_rows": null,
            "grid_column": null,
            "grid_gap": null,
            "grid_row": null,
            "grid_template_areas": null,
            "grid_template_columns": null,
            "grid_template_rows": null,
            "height": null,
            "justify_content": null,
            "justify_items": null,
            "left": null,
            "margin": null,
            "max_height": null,
            "max_width": null,
            "min_height": null,
            "min_width": null,
            "object_fit": null,
            "object_position": null,
            "order": null,
            "overflow": null,
            "overflow_x": null,
            "overflow_y": null,
            "padding": null,
            "right": null,
            "top": null,
            "visibility": null,
            "width": "20px"
          }
        },
        "c65b21268aa347d99e5f87a7dcb4774a": {
          "model_module": "@jupyter-widgets/controls",
          "model_name": "ProgressStyleModel",
          "model_module_version": "1.5.0",
          "state": {
            "_model_module": "@jupyter-widgets/controls",
            "_model_module_version": "1.5.0",
            "_model_name": "ProgressStyleModel",
            "_view_count": null,
            "_view_module": "@jupyter-widgets/base",
            "_view_module_version": "1.2.0",
            "_view_name": "StyleView",
            "bar_color": null,
            "description_width": ""
          }
        },
        "f47f6570ef8a4da7afb0e82f5c489a25": {
          "model_module": "@jupyter-widgets/base",
          "model_name": "LayoutModel",
          "model_module_version": "1.2.0",
          "state": {
            "_model_module": "@jupyter-widgets/base",
            "_model_module_version": "1.2.0",
            "_model_name": "LayoutModel",
            "_view_count": null,
            "_view_module": "@jupyter-widgets/base",
            "_view_module_version": "1.2.0",
            "_view_name": "LayoutView",
            "align_content": null,
            "align_items": null,
            "align_self": null,
            "border": null,
            "bottom": null,
            "display": null,
            "flex": null,
            "flex_flow": null,
            "grid_area": null,
            "grid_auto_columns": null,
            "grid_auto_flow": null,
            "grid_auto_rows": null,
            "grid_column": null,
            "grid_gap": null,
            "grid_row": null,
            "grid_template_areas": null,
            "grid_template_columns": null,
            "grid_template_rows": null,
            "height": null,
            "justify_content": null,
            "justify_items": null,
            "left": null,
            "margin": null,
            "max_height": null,
            "max_width": null,
            "min_height": null,
            "min_width": null,
            "object_fit": null,
            "object_position": null,
            "order": null,
            "overflow": null,
            "overflow_x": null,
            "overflow_y": null,
            "padding": null,
            "right": null,
            "top": null,
            "visibility": null,
            "width": null
          }
        },
        "cd38b41c0f824837b89a927170b830e9": {
          "model_module": "@jupyter-widgets/controls",
          "model_name": "DescriptionStyleModel",
          "model_module_version": "1.5.0",
          "state": {
            "_model_module": "@jupyter-widgets/controls",
            "_model_module_version": "1.5.0",
            "_model_name": "DescriptionStyleModel",
            "_view_count": null,
            "_view_module": "@jupyter-widgets/base",
            "_view_module_version": "1.2.0",
            "_view_name": "StyleView",
            "description_width": ""
          }
        },
        "b70d6243c8964f3cb3df985f5638d5ec": {
          "model_module": "@jupyter-widgets/controls",
          "model_name": "HBoxModel",
          "model_module_version": "1.5.0",
          "state": {
            "_dom_classes": [],
            "_model_module": "@jupyter-widgets/controls",
            "_model_module_version": "1.5.0",
            "_model_name": "HBoxModel",
            "_view_count": null,
            "_view_module": "@jupyter-widgets/controls",
            "_view_module_version": "1.5.0",
            "_view_name": "HBoxView",
            "box_style": "",
            "children": [
              "IPY_MODEL_2d66f7c7079d42668a08f0b2b494de01",
              "IPY_MODEL_522beb86621f425196c2eb9f8143dc16",
              "IPY_MODEL_aac7528478034449aecccd601b119908"
            ],
            "layout": "IPY_MODEL_2e3debca4bc04a268307a1da2798f72b"
          }
        },
        "2d66f7c7079d42668a08f0b2b494de01": {
          "model_module": "@jupyter-widgets/controls",
          "model_name": "HTMLModel",
          "model_module_version": "1.5.0",
          "state": {
            "_dom_classes": [],
            "_model_module": "@jupyter-widgets/controls",
            "_model_module_version": "1.5.0",
            "_model_name": "HTMLModel",
            "_view_count": null,
            "_view_module": "@jupyter-widgets/controls",
            "_view_module_version": "1.5.0",
            "_view_name": "HTMLView",
            "description": "",
            "description_tooltip": null,
            "layout": "IPY_MODEL_f305fcca67d04ee497f2675874aa4f0b",
            "placeholder": "​",
            "style": "IPY_MODEL_063e7ae58e804d36864a7e870670b991",
            "value": "Extraction completed...: 100%"
          }
        },
        "522beb86621f425196c2eb9f8143dc16": {
          "model_module": "@jupyter-widgets/controls",
          "model_name": "FloatProgressModel",
          "model_module_version": "1.5.0",
          "state": {
            "_dom_classes": [],
            "_model_module": "@jupyter-widgets/controls",
            "_model_module_version": "1.5.0",
            "_model_name": "FloatProgressModel",
            "_view_count": null,
            "_view_module": "@jupyter-widgets/controls",
            "_view_module_version": "1.5.0",
            "_view_name": "ProgressView",
            "bar_style": "success",
            "description": "",
            "description_tooltip": null,
            "layout": "IPY_MODEL_40cfcdeb77f34996836e2a13622c9145",
            "max": 1,
            "min": 0,
            "orientation": "horizontal",
            "style": "IPY_MODEL_b33264b14b6b4f4cbea07d3968abbe5b",
            "value": 1
          }
        },
        "aac7528478034449aecccd601b119908": {
          "model_module": "@jupyter-widgets/controls",
          "model_name": "HTMLModel",
          "model_module_version": "1.5.0",
          "state": {
            "_dom_classes": [],
            "_model_module": "@jupyter-widgets/controls",
            "_model_module_version": "1.5.0",
            "_model_name": "HTMLModel",
            "_view_count": null,
            "_view_module": "@jupyter-widgets/controls",
            "_view_module_version": "1.5.0",
            "_view_name": "HTMLView",
            "description": "",
            "description_tooltip": null,
            "layout": "IPY_MODEL_c339a6726a084ead93f61d294d7ca181",
            "placeholder": "​",
            "style": "IPY_MODEL_715ead6d681f48f88f0af5f97b95930e",
            "value": " 2/2 [00:32&lt;00:00, 17.90s/ file]"
          }
        },
        "2e3debca4bc04a268307a1da2798f72b": {
          "model_module": "@jupyter-widgets/base",
          "model_name": "LayoutModel",
          "model_module_version": "1.2.0",
          "state": {
            "_model_module": "@jupyter-widgets/base",
            "_model_module_version": "1.2.0",
            "_model_name": "LayoutModel",
            "_view_count": null,
            "_view_module": "@jupyter-widgets/base",
            "_view_module_version": "1.2.0",
            "_view_name": "LayoutView",
            "align_content": null,
            "align_items": null,
            "align_self": null,
            "border": null,
            "bottom": null,
            "display": null,
            "flex": null,
            "flex_flow": null,
            "grid_area": null,
            "grid_auto_columns": null,
            "grid_auto_flow": null,
            "grid_auto_rows": null,
            "grid_column": null,
            "grid_gap": null,
            "grid_row": null,
            "grid_template_areas": null,
            "grid_template_columns": null,
            "grid_template_rows": null,
            "height": null,
            "justify_content": null,
            "justify_items": null,
            "left": null,
            "margin": null,
            "max_height": null,
            "max_width": null,
            "min_height": null,
            "min_width": null,
            "object_fit": null,
            "object_position": null,
            "order": null,
            "overflow": null,
            "overflow_x": null,
            "overflow_y": null,
            "padding": null,
            "right": null,
            "top": null,
            "visibility": null,
            "width": null
          }
        },
        "f305fcca67d04ee497f2675874aa4f0b": {
          "model_module": "@jupyter-widgets/base",
          "model_name": "LayoutModel",
          "model_module_version": "1.2.0",
          "state": {
            "_model_module": "@jupyter-widgets/base",
            "_model_module_version": "1.2.0",
            "_model_name": "LayoutModel",
            "_view_count": null,
            "_view_module": "@jupyter-widgets/base",
            "_view_module_version": "1.2.0",
            "_view_name": "LayoutView",
            "align_content": null,
            "align_items": null,
            "align_self": null,
            "border": null,
            "bottom": null,
            "display": null,
            "flex": null,
            "flex_flow": null,
            "grid_area": null,
            "grid_auto_columns": null,
            "grid_auto_flow": null,
            "grid_auto_rows": null,
            "grid_column": null,
            "grid_gap": null,
            "grid_row": null,
            "grid_template_areas": null,
            "grid_template_columns": null,
            "grid_template_rows": null,
            "height": null,
            "justify_content": null,
            "justify_items": null,
            "left": null,
            "margin": null,
            "max_height": null,
            "max_width": null,
            "min_height": null,
            "min_width": null,
            "object_fit": null,
            "object_position": null,
            "order": null,
            "overflow": null,
            "overflow_x": null,
            "overflow_y": null,
            "padding": null,
            "right": null,
            "top": null,
            "visibility": null,
            "width": null
          }
        },
        "063e7ae58e804d36864a7e870670b991": {
          "model_module": "@jupyter-widgets/controls",
          "model_name": "DescriptionStyleModel",
          "model_module_version": "1.5.0",
          "state": {
            "_model_module": "@jupyter-widgets/controls",
            "_model_module_version": "1.5.0",
            "_model_name": "DescriptionStyleModel",
            "_view_count": null,
            "_view_module": "@jupyter-widgets/base",
            "_view_module_version": "1.2.0",
            "_view_name": "StyleView",
            "description_width": ""
          }
        },
        "40cfcdeb77f34996836e2a13622c9145": {
          "model_module": "@jupyter-widgets/base",
          "model_name": "LayoutModel",
          "model_module_version": "1.2.0",
          "state": {
            "_model_module": "@jupyter-widgets/base",
            "_model_module_version": "1.2.0",
            "_model_name": "LayoutModel",
            "_view_count": null,
            "_view_module": "@jupyter-widgets/base",
            "_view_module_version": "1.2.0",
            "_view_name": "LayoutView",
            "align_content": null,
            "align_items": null,
            "align_self": null,
            "border": null,
            "bottom": null,
            "display": null,
            "flex": null,
            "flex_flow": null,
            "grid_area": null,
            "grid_auto_columns": null,
            "grid_auto_flow": null,
            "grid_auto_rows": null,
            "grid_column": null,
            "grid_gap": null,
            "grid_row": null,
            "grid_template_areas": null,
            "grid_template_columns": null,
            "grid_template_rows": null,
            "height": null,
            "justify_content": null,
            "justify_items": null,
            "left": null,
            "margin": null,
            "max_height": null,
            "max_width": null,
            "min_height": null,
            "min_width": null,
            "object_fit": null,
            "object_position": null,
            "order": null,
            "overflow": null,
            "overflow_x": null,
            "overflow_y": null,
            "padding": null,
            "right": null,
            "top": null,
            "visibility": null,
            "width": "20px"
          }
        },
        "b33264b14b6b4f4cbea07d3968abbe5b": {
          "model_module": "@jupyter-widgets/controls",
          "model_name": "ProgressStyleModel",
          "model_module_version": "1.5.0",
          "state": {
            "_model_module": "@jupyter-widgets/controls",
            "_model_module_version": "1.5.0",
            "_model_name": "ProgressStyleModel",
            "_view_count": null,
            "_view_module": "@jupyter-widgets/base",
            "_view_module_version": "1.2.0",
            "_view_name": "StyleView",
            "bar_color": null,
            "description_width": ""
          }
        },
        "c339a6726a084ead93f61d294d7ca181": {
          "model_module": "@jupyter-widgets/base",
          "model_name": "LayoutModel",
          "model_module_version": "1.2.0",
          "state": {
            "_model_module": "@jupyter-widgets/base",
            "_model_module_version": "1.2.0",
            "_model_name": "LayoutModel",
            "_view_count": null,
            "_view_module": "@jupyter-widgets/base",
            "_view_module_version": "1.2.0",
            "_view_name": "LayoutView",
            "align_content": null,
            "align_items": null,
            "align_self": null,
            "border": null,
            "bottom": null,
            "display": null,
            "flex": null,
            "flex_flow": null,
            "grid_area": null,
            "grid_auto_columns": null,
            "grid_auto_flow": null,
            "grid_auto_rows": null,
            "grid_column": null,
            "grid_gap": null,
            "grid_row": null,
            "grid_template_areas": null,
            "grid_template_columns": null,
            "grid_template_rows": null,
            "height": null,
            "justify_content": null,
            "justify_items": null,
            "left": null,
            "margin": null,
            "max_height": null,
            "max_width": null,
            "min_height": null,
            "min_width": null,
            "object_fit": null,
            "object_position": null,
            "order": null,
            "overflow": null,
            "overflow_x": null,
            "overflow_y": null,
            "padding": null,
            "right": null,
            "top": null,
            "visibility": null,
            "width": null
          }
        },
        "715ead6d681f48f88f0af5f97b95930e": {
          "model_module": "@jupyter-widgets/controls",
          "model_name": "DescriptionStyleModel",
          "model_module_version": "1.5.0",
          "state": {
            "_model_module": "@jupyter-widgets/controls",
            "_model_module_version": "1.5.0",
            "_model_name": "DescriptionStyleModel",
            "_view_count": null,
            "_view_module": "@jupyter-widgets/base",
            "_view_module_version": "1.2.0",
            "_view_name": "StyleView",
            "description_width": ""
          }
        },
        "673432d175844b0f85804b2af87c983f": {
          "model_module": "@jupyter-widgets/controls",
          "model_name": "HBoxModel",
          "model_module_version": "1.5.0",
          "state": {
            "_dom_classes": [],
            "_model_module": "@jupyter-widgets/controls",
            "_model_module_version": "1.5.0",
            "_model_name": "HBoxModel",
            "_view_count": null,
            "_view_module": "@jupyter-widgets/controls",
            "_view_module_version": "1.5.0",
            "_view_name": "HBoxView",
            "box_style": "",
            "children": [
              "IPY_MODEL_69adbdf59c7141a09a8decbeb5e56730",
              "IPY_MODEL_f786fd64465642f6b5ab7bf8637f6e97",
              "IPY_MODEL_40885d17e04a4beca782fcabb58a44e5"
            ],
            "layout": "IPY_MODEL_58a12ae9ce27418794afe78bd3f662aa"
          }
        },
        "69adbdf59c7141a09a8decbeb5e56730": {
          "model_module": "@jupyter-widgets/controls",
          "model_name": "HTMLModel",
          "model_module_version": "1.5.0",
          "state": {
            "_dom_classes": [],
            "_model_module": "@jupyter-widgets/controls",
            "_model_module_version": "1.5.0",
            "_model_name": "HTMLModel",
            "_view_count": null,
            "_view_module": "@jupyter-widgets/controls",
            "_view_module_version": "1.5.0",
            "_view_name": "HTMLView",
            "description": "",
            "description_tooltip": null,
            "layout": "IPY_MODEL_67cdf69e6e894a988cb7b537cb5defdd",
            "placeholder": "​",
            "style": "IPY_MODEL_51ac50678fb840ecb29af1d33b02b7b3",
            "value": ""
          }
        },
        "f786fd64465642f6b5ab7bf8637f6e97": {
          "model_module": "@jupyter-widgets/controls",
          "model_name": "FloatProgressModel",
          "model_module_version": "1.5.0",
          "state": {
            "_dom_classes": [],
            "_model_module": "@jupyter-widgets/controls",
            "_model_module_version": "1.5.0",
            "_model_name": "FloatProgressModel",
            "_view_count": null,
            "_view_module": "@jupyter-widgets/controls",
            "_view_module_version": "1.5.0",
            "_view_name": "ProgressView",
            "bar_style": "info",
            "description": "",
            "description_tooltip": null,
            "layout": "IPY_MODEL_f9e5b937c983460b84d5b305a0597063",
            "max": 1,
            "min": 0,
            "orientation": "horizontal",
            "style": "IPY_MODEL_1d5bf432763047d9914a6aa45cb10c16",
            "value": 1
          }
        },
        "40885d17e04a4beca782fcabb58a44e5": {
          "model_module": "@jupyter-widgets/controls",
          "model_name": "HTMLModel",
          "model_module_version": "1.5.0",
          "state": {
            "_dom_classes": [],
            "_model_module": "@jupyter-widgets/controls",
            "_model_module_version": "1.5.0",
            "_model_name": "HTMLModel",
            "_view_count": null,
            "_view_module": "@jupyter-widgets/controls",
            "_view_module_version": "1.5.0",
            "_view_name": "HTMLView",
            "description": "",
            "description_tooltip": null,
            "layout": "IPY_MODEL_9b7cb8da08b442f59301dc423dee3ef7",
            "placeholder": "​",
            "style": "IPY_MODEL_660f6d4ae2c34b029fbece09864c3d41",
            "value": " 3579/0 [00:02&lt;00:00, 1469.75 examples/s]"
          }
        },
        "58a12ae9ce27418794afe78bd3f662aa": {
          "model_module": "@jupyter-widgets/base",
          "model_name": "LayoutModel",
          "model_module_version": "1.2.0",
          "state": {
            "_model_module": "@jupyter-widgets/base",
            "_model_module_version": "1.2.0",
            "_model_name": "LayoutModel",
            "_view_count": null,
            "_view_module": "@jupyter-widgets/base",
            "_view_module_version": "1.2.0",
            "_view_name": "LayoutView",
            "align_content": null,
            "align_items": null,
            "align_self": null,
            "border": null,
            "bottom": null,
            "display": null,
            "flex": null,
            "flex_flow": null,
            "grid_area": null,
            "grid_auto_columns": null,
            "grid_auto_flow": null,
            "grid_auto_rows": null,
            "grid_column": null,
            "grid_gap": null,
            "grid_row": null,
            "grid_template_areas": null,
            "grid_template_columns": null,
            "grid_template_rows": null,
            "height": null,
            "justify_content": null,
            "justify_items": null,
            "left": null,
            "margin": null,
            "max_height": null,
            "max_width": null,
            "min_height": null,
            "min_width": null,
            "object_fit": null,
            "object_position": null,
            "order": null,
            "overflow": null,
            "overflow_x": null,
            "overflow_y": null,
            "padding": null,
            "right": null,
            "top": null,
            "visibility": null,
            "width": null
          }
        },
        "67cdf69e6e894a988cb7b537cb5defdd": {
          "model_module": "@jupyter-widgets/base",
          "model_name": "LayoutModel",
          "model_module_version": "1.2.0",
          "state": {
            "_model_module": "@jupyter-widgets/base",
            "_model_module_version": "1.2.0",
            "_model_name": "LayoutModel",
            "_view_count": null,
            "_view_module": "@jupyter-widgets/base",
            "_view_module_version": "1.2.0",
            "_view_name": "LayoutView",
            "align_content": null,
            "align_items": null,
            "align_self": null,
            "border": null,
            "bottom": null,
            "display": null,
            "flex": null,
            "flex_flow": null,
            "grid_area": null,
            "grid_auto_columns": null,
            "grid_auto_flow": null,
            "grid_auto_rows": null,
            "grid_column": null,
            "grid_gap": null,
            "grid_row": null,
            "grid_template_areas": null,
            "grid_template_columns": null,
            "grid_template_rows": null,
            "height": null,
            "justify_content": null,
            "justify_items": null,
            "left": null,
            "margin": null,
            "max_height": null,
            "max_width": null,
            "min_height": null,
            "min_width": null,
            "object_fit": null,
            "object_position": null,
            "order": null,
            "overflow": null,
            "overflow_x": null,
            "overflow_y": null,
            "padding": null,
            "right": null,
            "top": null,
            "visibility": null,
            "width": null
          }
        },
        "51ac50678fb840ecb29af1d33b02b7b3": {
          "model_module": "@jupyter-widgets/controls",
          "model_name": "DescriptionStyleModel",
          "model_module_version": "1.5.0",
          "state": {
            "_model_module": "@jupyter-widgets/controls",
            "_model_module_version": "1.5.0",
            "_model_name": "DescriptionStyleModel",
            "_view_count": null,
            "_view_module": "@jupyter-widgets/base",
            "_view_module_version": "1.2.0",
            "_view_name": "StyleView",
            "description_width": ""
          }
        },
        "f9e5b937c983460b84d5b305a0597063": {
          "model_module": "@jupyter-widgets/base",
          "model_name": "LayoutModel",
          "model_module_version": "1.2.0",
          "state": {
            "_model_module": "@jupyter-widgets/base",
            "_model_module_version": "1.2.0",
            "_model_name": "LayoutModel",
            "_view_count": null,
            "_view_module": "@jupyter-widgets/base",
            "_view_module_version": "1.2.0",
            "_view_name": "LayoutView",
            "align_content": null,
            "align_items": null,
            "align_self": null,
            "border": null,
            "bottom": null,
            "display": null,
            "flex": null,
            "flex_flow": null,
            "grid_area": null,
            "grid_auto_columns": null,
            "grid_auto_flow": null,
            "grid_auto_rows": null,
            "grid_column": null,
            "grid_gap": null,
            "grid_row": null,
            "grid_template_areas": null,
            "grid_template_columns": null,
            "grid_template_rows": null,
            "height": null,
            "justify_content": null,
            "justify_items": null,
            "left": null,
            "margin": null,
            "max_height": null,
            "max_width": null,
            "min_height": null,
            "min_width": null,
            "object_fit": null,
            "object_position": null,
            "order": null,
            "overflow": null,
            "overflow_x": null,
            "overflow_y": null,
            "padding": null,
            "right": null,
            "top": null,
            "visibility": null,
            "width": "20px"
          }
        },
        "1d5bf432763047d9914a6aa45cb10c16": {
          "model_module": "@jupyter-widgets/controls",
          "model_name": "ProgressStyleModel",
          "model_module_version": "1.5.0",
          "state": {
            "_model_module": "@jupyter-widgets/controls",
            "_model_module_version": "1.5.0",
            "_model_name": "ProgressStyleModel",
            "_view_count": null,
            "_view_module": "@jupyter-widgets/base",
            "_view_module_version": "1.2.0",
            "_view_name": "StyleView",
            "bar_color": null,
            "description_width": ""
          }
        },
        "9b7cb8da08b442f59301dc423dee3ef7": {
          "model_module": "@jupyter-widgets/base",
          "model_name": "LayoutModel",
          "model_module_version": "1.2.0",
          "state": {
            "_model_module": "@jupyter-widgets/base",
            "_model_module_version": "1.2.0",
            "_model_name": "LayoutModel",
            "_view_count": null,
            "_view_module": "@jupyter-widgets/base",
            "_view_module_version": "1.2.0",
            "_view_name": "LayoutView",
            "align_content": null,
            "align_items": null,
            "align_self": null,
            "border": null,
            "bottom": null,
            "display": null,
            "flex": null,
            "flex_flow": null,
            "grid_area": null,
            "grid_auto_columns": null,
            "grid_auto_flow": null,
            "grid_auto_rows": null,
            "grid_column": null,
            "grid_gap": null,
            "grid_row": null,
            "grid_template_areas": null,
            "grid_template_columns": null,
            "grid_template_rows": null,
            "height": null,
            "justify_content": null,
            "justify_items": null,
            "left": null,
            "margin": null,
            "max_height": null,
            "max_width": null,
            "min_height": null,
            "min_width": null,
            "object_fit": null,
            "object_position": null,
            "order": null,
            "overflow": null,
            "overflow_x": null,
            "overflow_y": null,
            "padding": null,
            "right": null,
            "top": null,
            "visibility": null,
            "width": null
          }
        },
        "660f6d4ae2c34b029fbece09864c3d41": {
          "model_module": "@jupyter-widgets/controls",
          "model_name": "DescriptionStyleModel",
          "model_module_version": "1.5.0",
          "state": {
            "_model_module": "@jupyter-widgets/controls",
            "_model_module_version": "1.5.0",
            "_model_name": "DescriptionStyleModel",
            "_view_count": null,
            "_view_module": "@jupyter-widgets/base",
            "_view_module_version": "1.2.0",
            "_view_name": "StyleView",
            "description_width": ""
          }
        },
        "8a57dac8d9b84bf1adb6548fd59b9dfd": {
          "model_module": "@jupyter-widgets/controls",
          "model_name": "HBoxModel",
          "model_module_version": "1.5.0",
          "state": {
            "_dom_classes": [],
            "_model_module": "@jupyter-widgets/controls",
            "_model_module_version": "1.5.0",
            "_model_name": "HBoxModel",
            "_view_count": null,
            "_view_module": "@jupyter-widgets/controls",
            "_view_module_version": "1.5.0",
            "_view_name": "HBoxView",
            "box_style": "",
            "children": [
              "IPY_MODEL_156e2a0e98df4dda8ccba343d8ecc224",
              "IPY_MODEL_aeeb5ad68b72489fbbd27e20fa28e9d0",
              "IPY_MODEL_8235b579ba24412491784bded8de1082"
            ],
            "layout": "IPY_MODEL_c82817f540e0471a8e4400fe3bf02d75"
          }
        },
        "156e2a0e98df4dda8ccba343d8ecc224": {
          "model_module": "@jupyter-widgets/controls",
          "model_name": "HTMLModel",
          "model_module_version": "1.5.0",
          "state": {
            "_dom_classes": [],
            "_model_module": "@jupyter-widgets/controls",
            "_model_module_version": "1.5.0",
            "_model_name": "HTMLModel",
            "_view_count": null,
            "_view_module": "@jupyter-widgets/controls",
            "_view_module_version": "1.5.0",
            "_view_name": "HTMLView",
            "description": "",
            "description_tooltip": null,
            "layout": "IPY_MODEL_a73b3a1ae01849148431db6431e8c5db",
            "placeholder": "​",
            "style": "IPY_MODEL_3469dc2113b84e6c9df646c0b7472060",
            "value": "100%"
          }
        },
        "aeeb5ad68b72489fbbd27e20fa28e9d0": {
          "model_module": "@jupyter-widgets/controls",
          "model_name": "FloatProgressModel",
          "model_module_version": "1.5.0",
          "state": {
            "_dom_classes": [],
            "_model_module": "@jupyter-widgets/controls",
            "_model_module_version": "1.5.0",
            "_model_name": "FloatProgressModel",
            "_view_count": null,
            "_view_module": "@jupyter-widgets/controls",
            "_view_module_version": "1.5.0",
            "_view_name": "ProgressView",
            "bar_style": "danger",
            "description": "",
            "description_tooltip": null,
            "layout": "IPY_MODEL_7a5758cac61640399238bd98b9b85049",
            "max": 3680,
            "min": 0,
            "orientation": "horizontal",
            "style": "IPY_MODEL_8bcb5df11d4e462ebb1b0444a06dca99",
            "value": 3679
          }
        },
        "8235b579ba24412491784bded8de1082": {
          "model_module": "@jupyter-widgets/controls",
          "model_name": "HTMLModel",
          "model_module_version": "1.5.0",
          "state": {
            "_dom_classes": [],
            "_model_module": "@jupyter-widgets/controls",
            "_model_module_version": "1.5.0",
            "_model_name": "HTMLModel",
            "_view_count": null,
            "_view_module": "@jupyter-widgets/controls",
            "_view_module_version": "1.5.0",
            "_view_name": "HTMLView",
            "description": "",
            "description_tooltip": null,
            "layout": "IPY_MODEL_e583fb9fdb1b41d0a020793d91c43fd1",
            "placeholder": "​",
            "style": "IPY_MODEL_dd7da0a0da324e6696e3dfed2643abee",
            "value": " 3679/3680 [00:01&lt;00:00, 2964.06 examples/s]"
          }
        },
        "c82817f540e0471a8e4400fe3bf02d75": {
          "model_module": "@jupyter-widgets/base",
          "model_name": "LayoutModel",
          "model_module_version": "1.2.0",
          "state": {
            "_model_module": "@jupyter-widgets/base",
            "_model_module_version": "1.2.0",
            "_model_name": "LayoutModel",
            "_view_count": null,
            "_view_module": "@jupyter-widgets/base",
            "_view_module_version": "1.2.0",
            "_view_name": "LayoutView",
            "align_content": null,
            "align_items": null,
            "align_self": null,
            "border": null,
            "bottom": null,
            "display": null,
            "flex": null,
            "flex_flow": null,
            "grid_area": null,
            "grid_auto_columns": null,
            "grid_auto_flow": null,
            "grid_auto_rows": null,
            "grid_column": null,
            "grid_gap": null,
            "grid_row": null,
            "grid_template_areas": null,
            "grid_template_columns": null,
            "grid_template_rows": null,
            "height": null,
            "justify_content": null,
            "justify_items": null,
            "left": null,
            "margin": null,
            "max_height": null,
            "max_width": null,
            "min_height": null,
            "min_width": null,
            "object_fit": null,
            "object_position": null,
            "order": null,
            "overflow": null,
            "overflow_x": null,
            "overflow_y": null,
            "padding": null,
            "right": null,
            "top": null,
            "visibility": null,
            "width": null
          }
        },
        "a73b3a1ae01849148431db6431e8c5db": {
          "model_module": "@jupyter-widgets/base",
          "model_name": "LayoutModel",
          "model_module_version": "1.2.0",
          "state": {
            "_model_module": "@jupyter-widgets/base",
            "_model_module_version": "1.2.0",
            "_model_name": "LayoutModel",
            "_view_count": null,
            "_view_module": "@jupyter-widgets/base",
            "_view_module_version": "1.2.0",
            "_view_name": "LayoutView",
            "align_content": null,
            "align_items": null,
            "align_self": null,
            "border": null,
            "bottom": null,
            "display": null,
            "flex": null,
            "flex_flow": null,
            "grid_area": null,
            "grid_auto_columns": null,
            "grid_auto_flow": null,
            "grid_auto_rows": null,
            "grid_column": null,
            "grid_gap": null,
            "grid_row": null,
            "grid_template_areas": null,
            "grid_template_columns": null,
            "grid_template_rows": null,
            "height": null,
            "justify_content": null,
            "justify_items": null,
            "left": null,
            "margin": null,
            "max_height": null,
            "max_width": null,
            "min_height": null,
            "min_width": null,
            "object_fit": null,
            "object_position": null,
            "order": null,
            "overflow": null,
            "overflow_x": null,
            "overflow_y": null,
            "padding": null,
            "right": null,
            "top": null,
            "visibility": null,
            "width": null
          }
        },
        "3469dc2113b84e6c9df646c0b7472060": {
          "model_module": "@jupyter-widgets/controls",
          "model_name": "DescriptionStyleModel",
          "model_module_version": "1.5.0",
          "state": {
            "_model_module": "@jupyter-widgets/controls",
            "_model_module_version": "1.5.0",
            "_model_name": "DescriptionStyleModel",
            "_view_count": null,
            "_view_module": "@jupyter-widgets/base",
            "_view_module_version": "1.2.0",
            "_view_name": "StyleView",
            "description_width": ""
          }
        },
        "7a5758cac61640399238bd98b9b85049": {
          "model_module": "@jupyter-widgets/base",
          "model_name": "LayoutModel",
          "model_module_version": "1.2.0",
          "state": {
            "_model_module": "@jupyter-widgets/base",
            "_model_module_version": "1.2.0",
            "_model_name": "LayoutModel",
            "_view_count": null,
            "_view_module": "@jupyter-widgets/base",
            "_view_module_version": "1.2.0",
            "_view_name": "LayoutView",
            "align_content": null,
            "align_items": null,
            "align_self": null,
            "border": null,
            "bottom": null,
            "display": null,
            "flex": null,
            "flex_flow": null,
            "grid_area": null,
            "grid_auto_columns": null,
            "grid_auto_flow": null,
            "grid_auto_rows": null,
            "grid_column": null,
            "grid_gap": null,
            "grid_row": null,
            "grid_template_areas": null,
            "grid_template_columns": null,
            "grid_template_rows": null,
            "height": null,
            "justify_content": null,
            "justify_items": null,
            "left": null,
            "margin": null,
            "max_height": null,
            "max_width": null,
            "min_height": null,
            "min_width": null,
            "object_fit": null,
            "object_position": null,
            "order": null,
            "overflow": null,
            "overflow_x": null,
            "overflow_y": null,
            "padding": null,
            "right": null,
            "top": null,
            "visibility": null,
            "width": null
          }
        },
        "8bcb5df11d4e462ebb1b0444a06dca99": {
          "model_module": "@jupyter-widgets/controls",
          "model_name": "ProgressStyleModel",
          "model_module_version": "1.5.0",
          "state": {
            "_model_module": "@jupyter-widgets/controls",
            "_model_module_version": "1.5.0",
            "_model_name": "ProgressStyleModel",
            "_view_count": null,
            "_view_module": "@jupyter-widgets/base",
            "_view_module_version": "1.2.0",
            "_view_name": "StyleView",
            "bar_color": null,
            "description_width": ""
          }
        },
        "e583fb9fdb1b41d0a020793d91c43fd1": {
          "model_module": "@jupyter-widgets/base",
          "model_name": "LayoutModel",
          "model_module_version": "1.2.0",
          "state": {
            "_model_module": "@jupyter-widgets/base",
            "_model_module_version": "1.2.0",
            "_model_name": "LayoutModel",
            "_view_count": null,
            "_view_module": "@jupyter-widgets/base",
            "_view_module_version": "1.2.0",
            "_view_name": "LayoutView",
            "align_content": null,
            "align_items": null,
            "align_self": null,
            "border": null,
            "bottom": null,
            "display": null,
            "flex": null,
            "flex_flow": null,
            "grid_area": null,
            "grid_auto_columns": null,
            "grid_auto_flow": null,
            "grid_auto_rows": null,
            "grid_column": null,
            "grid_gap": null,
            "grid_row": null,
            "grid_template_areas": null,
            "grid_template_columns": null,
            "grid_template_rows": null,
            "height": null,
            "justify_content": null,
            "justify_items": null,
            "left": null,
            "margin": null,
            "max_height": null,
            "max_width": null,
            "min_height": null,
            "min_width": null,
            "object_fit": null,
            "object_position": null,
            "order": null,
            "overflow": null,
            "overflow_x": null,
            "overflow_y": null,
            "padding": null,
            "right": null,
            "top": null,
            "visibility": null,
            "width": null
          }
        },
        "dd7da0a0da324e6696e3dfed2643abee": {
          "model_module": "@jupyter-widgets/controls",
          "model_name": "DescriptionStyleModel",
          "model_module_version": "1.5.0",
          "state": {
            "_model_module": "@jupyter-widgets/controls",
            "_model_module_version": "1.5.0",
            "_model_name": "DescriptionStyleModel",
            "_view_count": null,
            "_view_module": "@jupyter-widgets/base",
            "_view_module_version": "1.2.0",
            "_view_name": "StyleView",
            "description_width": ""
          }
        },
        "c78eabf2acb14d2b952b588504adfa0c": {
          "model_module": "@jupyter-widgets/controls",
          "model_name": "HBoxModel",
          "model_module_version": "1.5.0",
          "state": {
            "_dom_classes": [],
            "_model_module": "@jupyter-widgets/controls",
            "_model_module_version": "1.5.0",
            "_model_name": "HBoxModel",
            "_view_count": null,
            "_view_module": "@jupyter-widgets/controls",
            "_view_module_version": "1.5.0",
            "_view_name": "HBoxView",
            "box_style": "",
            "children": [
              "IPY_MODEL_0b7232847ca249acb047cd7691afe4ff",
              "IPY_MODEL_8585dbbffbda4e4faa76f740cb988178",
              "IPY_MODEL_bc52259496f34bf5a12723d24931c8b3"
            ],
            "layout": "IPY_MODEL_952fb160bb8e4b6f823e77f46514b379"
          }
        },
        "0b7232847ca249acb047cd7691afe4ff": {
          "model_module": "@jupyter-widgets/controls",
          "model_name": "HTMLModel",
          "model_module_version": "1.5.0",
          "state": {
            "_dom_classes": [],
            "_model_module": "@jupyter-widgets/controls",
            "_model_module_version": "1.5.0",
            "_model_name": "HTMLModel",
            "_view_count": null,
            "_view_module": "@jupyter-widgets/controls",
            "_view_module_version": "1.5.0",
            "_view_name": "HTMLView",
            "description": "",
            "description_tooltip": null,
            "layout": "IPY_MODEL_b55bdb89cf5c4d5ba4e0079b193e50fd",
            "placeholder": "​",
            "style": "IPY_MODEL_4d45406d308040aca0aefd77c968323c",
            "value": ""
          }
        },
        "8585dbbffbda4e4faa76f740cb988178": {
          "model_module": "@jupyter-widgets/controls",
          "model_name": "FloatProgressModel",
          "model_module_version": "1.5.0",
          "state": {
            "_dom_classes": [],
            "_model_module": "@jupyter-widgets/controls",
            "_model_module_version": "1.5.0",
            "_model_name": "FloatProgressModel",
            "_view_count": null,
            "_view_module": "@jupyter-widgets/controls",
            "_view_module_version": "1.5.0",
            "_view_name": "ProgressView",
            "bar_style": "info",
            "description": "",
            "description_tooltip": null,
            "layout": "IPY_MODEL_ded750e4650d4ce28fa3e1fb625db1fb",
            "max": 1,
            "min": 0,
            "orientation": "horizontal",
            "style": "IPY_MODEL_907410617c764dbba44d6c43f1fbf959",
            "value": 1
          }
        },
        "bc52259496f34bf5a12723d24931c8b3": {
          "model_module": "@jupyter-widgets/controls",
          "model_name": "HTMLModel",
          "model_module_version": "1.5.0",
          "state": {
            "_dom_classes": [],
            "_model_module": "@jupyter-widgets/controls",
            "_model_module_version": "1.5.0",
            "_model_name": "HTMLModel",
            "_view_count": null,
            "_view_module": "@jupyter-widgets/controls",
            "_view_module_version": "1.5.0",
            "_view_name": "HTMLView",
            "description": "",
            "description_tooltip": null,
            "layout": "IPY_MODEL_e6ff118c55f74aef8e396cfabedf858e",
            "placeholder": "​",
            "style": "IPY_MODEL_564510801b8d414c8caba435e3fd04bb",
            "value": " 3641/0 [00:02&lt;00:00, 1398.48 examples/s]"
          }
        },
        "952fb160bb8e4b6f823e77f46514b379": {
          "model_module": "@jupyter-widgets/base",
          "model_name": "LayoutModel",
          "model_module_version": "1.2.0",
          "state": {
            "_model_module": "@jupyter-widgets/base",
            "_model_module_version": "1.2.0",
            "_model_name": "LayoutModel",
            "_view_count": null,
            "_view_module": "@jupyter-widgets/base",
            "_view_module_version": "1.2.0",
            "_view_name": "LayoutView",
            "align_content": null,
            "align_items": null,
            "align_self": null,
            "border": null,
            "bottom": null,
            "display": null,
            "flex": null,
            "flex_flow": null,
            "grid_area": null,
            "grid_auto_columns": null,
            "grid_auto_flow": null,
            "grid_auto_rows": null,
            "grid_column": null,
            "grid_gap": null,
            "grid_row": null,
            "grid_template_areas": null,
            "grid_template_columns": null,
            "grid_template_rows": null,
            "height": null,
            "justify_content": null,
            "justify_items": null,
            "left": null,
            "margin": null,
            "max_height": null,
            "max_width": null,
            "min_height": null,
            "min_width": null,
            "object_fit": null,
            "object_position": null,
            "order": null,
            "overflow": null,
            "overflow_x": null,
            "overflow_y": null,
            "padding": null,
            "right": null,
            "top": null,
            "visibility": null,
            "width": null
          }
        },
        "b55bdb89cf5c4d5ba4e0079b193e50fd": {
          "model_module": "@jupyter-widgets/base",
          "model_name": "LayoutModel",
          "model_module_version": "1.2.0",
          "state": {
            "_model_module": "@jupyter-widgets/base",
            "_model_module_version": "1.2.0",
            "_model_name": "LayoutModel",
            "_view_count": null,
            "_view_module": "@jupyter-widgets/base",
            "_view_module_version": "1.2.0",
            "_view_name": "LayoutView",
            "align_content": null,
            "align_items": null,
            "align_self": null,
            "border": null,
            "bottom": null,
            "display": null,
            "flex": null,
            "flex_flow": null,
            "grid_area": null,
            "grid_auto_columns": null,
            "grid_auto_flow": null,
            "grid_auto_rows": null,
            "grid_column": null,
            "grid_gap": null,
            "grid_row": null,
            "grid_template_areas": null,
            "grid_template_columns": null,
            "grid_template_rows": null,
            "height": null,
            "justify_content": null,
            "justify_items": null,
            "left": null,
            "margin": null,
            "max_height": null,
            "max_width": null,
            "min_height": null,
            "min_width": null,
            "object_fit": null,
            "object_position": null,
            "order": null,
            "overflow": null,
            "overflow_x": null,
            "overflow_y": null,
            "padding": null,
            "right": null,
            "top": null,
            "visibility": null,
            "width": null
          }
        },
        "4d45406d308040aca0aefd77c968323c": {
          "model_module": "@jupyter-widgets/controls",
          "model_name": "DescriptionStyleModel",
          "model_module_version": "1.5.0",
          "state": {
            "_model_module": "@jupyter-widgets/controls",
            "_model_module_version": "1.5.0",
            "_model_name": "DescriptionStyleModel",
            "_view_count": null,
            "_view_module": "@jupyter-widgets/base",
            "_view_module_version": "1.2.0",
            "_view_name": "StyleView",
            "description_width": ""
          }
        },
        "ded750e4650d4ce28fa3e1fb625db1fb": {
          "model_module": "@jupyter-widgets/base",
          "model_name": "LayoutModel",
          "model_module_version": "1.2.0",
          "state": {
            "_model_module": "@jupyter-widgets/base",
            "_model_module_version": "1.2.0",
            "_model_name": "LayoutModel",
            "_view_count": null,
            "_view_module": "@jupyter-widgets/base",
            "_view_module_version": "1.2.0",
            "_view_name": "LayoutView",
            "align_content": null,
            "align_items": null,
            "align_self": null,
            "border": null,
            "bottom": null,
            "display": null,
            "flex": null,
            "flex_flow": null,
            "grid_area": null,
            "grid_auto_columns": null,
            "grid_auto_flow": null,
            "grid_auto_rows": null,
            "grid_column": null,
            "grid_gap": null,
            "grid_row": null,
            "grid_template_areas": null,
            "grid_template_columns": null,
            "grid_template_rows": null,
            "height": null,
            "justify_content": null,
            "justify_items": null,
            "left": null,
            "margin": null,
            "max_height": null,
            "max_width": null,
            "min_height": null,
            "min_width": null,
            "object_fit": null,
            "object_position": null,
            "order": null,
            "overflow": null,
            "overflow_x": null,
            "overflow_y": null,
            "padding": null,
            "right": null,
            "top": null,
            "visibility": null,
            "width": "20px"
          }
        },
        "907410617c764dbba44d6c43f1fbf959": {
          "model_module": "@jupyter-widgets/controls",
          "model_name": "ProgressStyleModel",
          "model_module_version": "1.5.0",
          "state": {
            "_model_module": "@jupyter-widgets/controls",
            "_model_module_version": "1.5.0",
            "_model_name": "ProgressStyleModel",
            "_view_count": null,
            "_view_module": "@jupyter-widgets/base",
            "_view_module_version": "1.2.0",
            "_view_name": "StyleView",
            "bar_color": null,
            "description_width": ""
          }
        },
        "e6ff118c55f74aef8e396cfabedf858e": {
          "model_module": "@jupyter-widgets/base",
          "model_name": "LayoutModel",
          "model_module_version": "1.2.0",
          "state": {
            "_model_module": "@jupyter-widgets/base",
            "_model_module_version": "1.2.0",
            "_model_name": "LayoutModel",
            "_view_count": null,
            "_view_module": "@jupyter-widgets/base",
            "_view_module_version": "1.2.0",
            "_view_name": "LayoutView",
            "align_content": null,
            "align_items": null,
            "align_self": null,
            "border": null,
            "bottom": null,
            "display": null,
            "flex": null,
            "flex_flow": null,
            "grid_area": null,
            "grid_auto_columns": null,
            "grid_auto_flow": null,
            "grid_auto_rows": null,
            "grid_column": null,
            "grid_gap": null,
            "grid_row": null,
            "grid_template_areas": null,
            "grid_template_columns": null,
            "grid_template_rows": null,
            "height": null,
            "justify_content": null,
            "justify_items": null,
            "left": null,
            "margin": null,
            "max_height": null,
            "max_width": null,
            "min_height": null,
            "min_width": null,
            "object_fit": null,
            "object_position": null,
            "order": null,
            "overflow": null,
            "overflow_x": null,
            "overflow_y": null,
            "padding": null,
            "right": null,
            "top": null,
            "visibility": null,
            "width": null
          }
        },
        "564510801b8d414c8caba435e3fd04bb": {
          "model_module": "@jupyter-widgets/controls",
          "model_name": "DescriptionStyleModel",
          "model_module_version": "1.5.0",
          "state": {
            "_model_module": "@jupyter-widgets/controls",
            "_model_module_version": "1.5.0",
            "_model_name": "DescriptionStyleModel",
            "_view_count": null,
            "_view_module": "@jupyter-widgets/base",
            "_view_module_version": "1.2.0",
            "_view_name": "StyleView",
            "description_width": ""
          }
        },
        "fd681f0cdff5419e938112b99280ca8c": {
          "model_module": "@jupyter-widgets/controls",
          "model_name": "HBoxModel",
          "model_module_version": "1.5.0",
          "state": {
            "_dom_classes": [],
            "_model_module": "@jupyter-widgets/controls",
            "_model_module_version": "1.5.0",
            "_model_name": "HBoxModel",
            "_view_count": null,
            "_view_module": "@jupyter-widgets/controls",
            "_view_module_version": "1.5.0",
            "_view_name": "HBoxView",
            "box_style": "",
            "children": [
              "IPY_MODEL_ee9dac1fef9f4d6b92f28de1363069cd",
              "IPY_MODEL_b9a3a10d1f7a420e9abd3537f32c74ba",
              "IPY_MODEL_aa5024ea57bf4abc8891eabeddb91cdc"
            ],
            "layout": "IPY_MODEL_ae9e4391b9734d0598f524c1e0a7beb2"
          }
        },
        "ee9dac1fef9f4d6b92f28de1363069cd": {
          "model_module": "@jupyter-widgets/controls",
          "model_name": "HTMLModel",
          "model_module_version": "1.5.0",
          "state": {
            "_dom_classes": [],
            "_model_module": "@jupyter-widgets/controls",
            "_model_module_version": "1.5.0",
            "_model_name": "HTMLModel",
            "_view_count": null,
            "_view_module": "@jupyter-widgets/controls",
            "_view_module_version": "1.5.0",
            "_view_name": "HTMLView",
            "description": "",
            "description_tooltip": null,
            "layout": "IPY_MODEL_0348b2dda2dc4d6eabdc026086b3a244",
            "placeholder": "​",
            "style": "IPY_MODEL_6dcca96e72d04afa8be36e460b273bb8",
            "value": "100%"
          }
        },
        "b9a3a10d1f7a420e9abd3537f32c74ba": {
          "model_module": "@jupyter-widgets/controls",
          "model_name": "FloatProgressModel",
          "model_module_version": "1.5.0",
          "state": {
            "_dom_classes": [],
            "_model_module": "@jupyter-widgets/controls",
            "_model_module_version": "1.5.0",
            "_model_name": "FloatProgressModel",
            "_view_count": null,
            "_view_module": "@jupyter-widgets/controls",
            "_view_module_version": "1.5.0",
            "_view_name": "ProgressView",
            "bar_style": "danger",
            "description": "",
            "description_tooltip": null,
            "layout": "IPY_MODEL_0adc04dcf3b24c52a60d8720152a5261",
            "max": 3669,
            "min": 0,
            "orientation": "horizontal",
            "style": "IPY_MODEL_fbbe7da57802402d8eba922d1bf87b41",
            "value": 3668
          }
        },
        "aa5024ea57bf4abc8891eabeddb91cdc": {
          "model_module": "@jupyter-widgets/controls",
          "model_name": "HTMLModel",
          "model_module_version": "1.5.0",
          "state": {
            "_dom_classes": [],
            "_model_module": "@jupyter-widgets/controls",
            "_model_module_version": "1.5.0",
            "_model_name": "HTMLModel",
            "_view_count": null,
            "_view_module": "@jupyter-widgets/controls",
            "_view_module_version": "1.5.0",
            "_view_name": "HTMLView",
            "description": "",
            "description_tooltip": null,
            "layout": "IPY_MODEL_7d7cb38b98bb4ccf889bbae125e46df1",
            "placeholder": "​",
            "style": "IPY_MODEL_97b2222395d744b8989ad5a9d779389f",
            "value": " 3668/3669 [00:01&lt;00:00, 2923.67 examples/s]"
          }
        },
        "ae9e4391b9734d0598f524c1e0a7beb2": {
          "model_module": "@jupyter-widgets/base",
          "model_name": "LayoutModel",
          "model_module_version": "1.2.0",
          "state": {
            "_model_module": "@jupyter-widgets/base",
            "_model_module_version": "1.2.0",
            "_model_name": "LayoutModel",
            "_view_count": null,
            "_view_module": "@jupyter-widgets/base",
            "_view_module_version": "1.2.0",
            "_view_name": "LayoutView",
            "align_content": null,
            "align_items": null,
            "align_self": null,
            "border": null,
            "bottom": null,
            "display": null,
            "flex": null,
            "flex_flow": null,
            "grid_area": null,
            "grid_auto_columns": null,
            "grid_auto_flow": null,
            "grid_auto_rows": null,
            "grid_column": null,
            "grid_gap": null,
            "grid_row": null,
            "grid_template_areas": null,
            "grid_template_columns": null,
            "grid_template_rows": null,
            "height": null,
            "justify_content": null,
            "justify_items": null,
            "left": null,
            "margin": null,
            "max_height": null,
            "max_width": null,
            "min_height": null,
            "min_width": null,
            "object_fit": null,
            "object_position": null,
            "order": null,
            "overflow": null,
            "overflow_x": null,
            "overflow_y": null,
            "padding": null,
            "right": null,
            "top": null,
            "visibility": null,
            "width": null
          }
        },
        "0348b2dda2dc4d6eabdc026086b3a244": {
          "model_module": "@jupyter-widgets/base",
          "model_name": "LayoutModel",
          "model_module_version": "1.2.0",
          "state": {
            "_model_module": "@jupyter-widgets/base",
            "_model_module_version": "1.2.0",
            "_model_name": "LayoutModel",
            "_view_count": null,
            "_view_module": "@jupyter-widgets/base",
            "_view_module_version": "1.2.0",
            "_view_name": "LayoutView",
            "align_content": null,
            "align_items": null,
            "align_self": null,
            "border": null,
            "bottom": null,
            "display": null,
            "flex": null,
            "flex_flow": null,
            "grid_area": null,
            "grid_auto_columns": null,
            "grid_auto_flow": null,
            "grid_auto_rows": null,
            "grid_column": null,
            "grid_gap": null,
            "grid_row": null,
            "grid_template_areas": null,
            "grid_template_columns": null,
            "grid_template_rows": null,
            "height": null,
            "justify_content": null,
            "justify_items": null,
            "left": null,
            "margin": null,
            "max_height": null,
            "max_width": null,
            "min_height": null,
            "min_width": null,
            "object_fit": null,
            "object_position": null,
            "order": null,
            "overflow": null,
            "overflow_x": null,
            "overflow_y": null,
            "padding": null,
            "right": null,
            "top": null,
            "visibility": null,
            "width": null
          }
        },
        "6dcca96e72d04afa8be36e460b273bb8": {
          "model_module": "@jupyter-widgets/controls",
          "model_name": "DescriptionStyleModel",
          "model_module_version": "1.5.0",
          "state": {
            "_model_module": "@jupyter-widgets/controls",
            "_model_module_version": "1.5.0",
            "_model_name": "DescriptionStyleModel",
            "_view_count": null,
            "_view_module": "@jupyter-widgets/base",
            "_view_module_version": "1.2.0",
            "_view_name": "StyleView",
            "description_width": ""
          }
        },
        "0adc04dcf3b24c52a60d8720152a5261": {
          "model_module": "@jupyter-widgets/base",
          "model_name": "LayoutModel",
          "model_module_version": "1.2.0",
          "state": {
            "_model_module": "@jupyter-widgets/base",
            "_model_module_version": "1.2.0",
            "_model_name": "LayoutModel",
            "_view_count": null,
            "_view_module": "@jupyter-widgets/base",
            "_view_module_version": "1.2.0",
            "_view_name": "LayoutView",
            "align_content": null,
            "align_items": null,
            "align_self": null,
            "border": null,
            "bottom": null,
            "display": null,
            "flex": null,
            "flex_flow": null,
            "grid_area": null,
            "grid_auto_columns": null,
            "grid_auto_flow": null,
            "grid_auto_rows": null,
            "grid_column": null,
            "grid_gap": null,
            "grid_row": null,
            "grid_template_areas": null,
            "grid_template_columns": null,
            "grid_template_rows": null,
            "height": null,
            "justify_content": null,
            "justify_items": null,
            "left": null,
            "margin": null,
            "max_height": null,
            "max_width": null,
            "min_height": null,
            "min_width": null,
            "object_fit": null,
            "object_position": null,
            "order": null,
            "overflow": null,
            "overflow_x": null,
            "overflow_y": null,
            "padding": null,
            "right": null,
            "top": null,
            "visibility": null,
            "width": null
          }
        },
        "fbbe7da57802402d8eba922d1bf87b41": {
          "model_module": "@jupyter-widgets/controls",
          "model_name": "ProgressStyleModel",
          "model_module_version": "1.5.0",
          "state": {
            "_model_module": "@jupyter-widgets/controls",
            "_model_module_version": "1.5.0",
            "_model_name": "ProgressStyleModel",
            "_view_count": null,
            "_view_module": "@jupyter-widgets/base",
            "_view_module_version": "1.2.0",
            "_view_name": "StyleView",
            "bar_color": null,
            "description_width": ""
          }
        },
        "7d7cb38b98bb4ccf889bbae125e46df1": {
          "model_module": "@jupyter-widgets/base",
          "model_name": "LayoutModel",
          "model_module_version": "1.2.0",
          "state": {
            "_model_module": "@jupyter-widgets/base",
            "_model_module_version": "1.2.0",
            "_model_name": "LayoutModel",
            "_view_count": null,
            "_view_module": "@jupyter-widgets/base",
            "_view_module_version": "1.2.0",
            "_view_name": "LayoutView",
            "align_content": null,
            "align_items": null,
            "align_self": null,
            "border": null,
            "bottom": null,
            "display": null,
            "flex": null,
            "flex_flow": null,
            "grid_area": null,
            "grid_auto_columns": null,
            "grid_auto_flow": null,
            "grid_auto_rows": null,
            "grid_column": null,
            "grid_gap": null,
            "grid_row": null,
            "grid_template_areas": null,
            "grid_template_columns": null,
            "grid_template_rows": null,
            "height": null,
            "justify_content": null,
            "justify_items": null,
            "left": null,
            "margin": null,
            "max_height": null,
            "max_width": null,
            "min_height": null,
            "min_width": null,
            "object_fit": null,
            "object_position": null,
            "order": null,
            "overflow": null,
            "overflow_x": null,
            "overflow_y": null,
            "padding": null,
            "right": null,
            "top": null,
            "visibility": null,
            "width": null
          }
        },
        "97b2222395d744b8989ad5a9d779389f": {
          "model_module": "@jupyter-widgets/controls",
          "model_name": "DescriptionStyleModel",
          "model_module_version": "1.5.0",
          "state": {
            "_model_module": "@jupyter-widgets/controls",
            "_model_module_version": "1.5.0",
            "_model_name": "DescriptionStyleModel",
            "_view_count": null,
            "_view_module": "@jupyter-widgets/base",
            "_view_module_version": "1.2.0",
            "_view_name": "StyleView",
            "description_width": ""
          }
        }
      }
    }
  },
  "cells": [
    {
      "cell_type": "markdown",
      "metadata": {
        "id": "view-in-github",
        "colab_type": "text"
      },
      "source": [
        "<a href=\"https://colab.research.google.com/github/ealmenzar/non-human-errors/blob/main/Non-Human_Errors_BiT_OxfordPet.ipynb\" target=\"_parent\"><img src=\"https://colab.research.google.com/assets/colab-badge.svg\" alt=\"Open In Colab\"/></a>"
      ]
    },
    {
      "cell_type": "markdown",
      "metadata": {
        "id": "JMKTl6qeGcK_"
      },
      "source": [
        "# Download and set BiT model"
      ]
    },
    {
      "cell_type": "code",
      "metadata": {
        "colab": {
          "base_uri": "https://localhost:8080/"
        },
        "id": "83Q7Bk-n45hW",
        "outputId": "0e4a0f50-852e-42c2-9a6a-1e5d3bc80977"
      },
      "source": [
        "from google.colab import drive\n",
        "drive.mount('/content/gdrive')"
      ],
      "execution_count": 48,
      "outputs": [
        {
          "output_type": "stream",
          "name": "stdout",
          "text": [
            "Drive already mounted at /content/gdrive; to attempt to forcibly remount, call drive.mount(\"/content/gdrive\", force_remount=True).\n"
          ]
        }
      ]
    },
    {
      "cell_type": "code",
      "metadata": {
        "colab": {
          "base_uri": "https://localhost:8080/"
        },
        "id": "Mbb_0EwU5ZOy",
        "outputId": "0636e53f-2ee3-447f-91a9-b060036e0c04"
      },
      "source": [
        "!ls"
      ],
      "execution_count": 49,
      "outputs": [
        {
          "output_type": "stream",
          "name": "stdout",
          "text": [
            "gdrive\tsample_data\n"
          ]
        }
      ]
    },
    {
      "cell_type": "code",
      "metadata": {
        "id": "FaxItCV75rAc"
      },
      "source": [
        "%cd /content/gdrive/Shareddrives/[PATH_TO_CONTENT_FOLDER]  # replace [PATH_TO_CONTENT_FOLDER] with the path to the folder where you want to save the content"
      ],
      "execution_count": null,
      "outputs": []
    },
    {
      "cell_type": "code",
      "metadata": {
        "id": "c61EeJDq5r08"
      },
      "source": [
        "!mkdir BiT-M-R50x1-run0-oxford_iiit_pet.tfhub\n",
        "%cd BiT-M-R50x1-run0-oxford_iiit_pet.tfhub\n",
        "!wget https://storage.googleapis.com/bit_models/vtab/BiT-M-R50x1-run0-oxford_iiit_pet.tfhub/{saved_model.pb,tfhub_module.pb}\n",
        "!mkdir variables\n",
        "%cd variables\n",
        "!wget https://storage.googleapis.com/bit_models/vtab/BiT-M-R50x1-run0-oxford_iiit_pet.tfhub/variables/variables.index"
      ],
      "execution_count": null,
      "outputs": []
    },
    {
      "cell_type": "code",
      "metadata": {
        "id": "Ln5bqoZfBWPz"
      },
      "source": [
        "!wget https://storage.googleapis.com/bit_models/vtab/BiT-M-R50x1-run0-oxford_iiit_pet.tfhub/variables/variables.data-00000-of-00001"
      ],
      "execution_count": null,
      "outputs": []
    },
    {
      "cell_type": "code",
      "metadata": {
        "id": "MPOl8qHOBgdE"
      },
      "source": [
        "%cd ../\n",
        "!ls"
      ],
      "execution_count": null,
      "outputs": []
    },
    {
      "cell_type": "code",
      "metadata": {
        "id": "q26UqPMX8HCo"
      },
      "source": [
        "module_dir = \"./BiT-M-R50x1-run0-oxford_iiit_pet.tfhub\""
      ],
      "execution_count": 54,
      "outputs": []
    },
    {
      "cell_type": "code",
      "metadata": {
        "id": "ivYMyxpu8SL1"
      },
      "source": [
        "import tensorflow as tf\n",
        "import tensorflow_hub as hub\n",
        "\n",
        "# Load saved model\n",
        "module = hub.KerasLayer(module_dir, signature='representation' , signature_outputs_as_dict=True)"
      ],
      "execution_count": 55,
      "outputs": []
    },
    {
      "cell_type": "code",
      "metadata": {
        "id": "gHmMaMfxCQL2",
        "colab": {
          "base_uri": "https://localhost:8080/",
          "height": 299,
          "referenced_widgets": [
            "24ea81cd830749e4a3935bd5fb18154b",
            "68be26ce8e75455fb1890ab759f8a77a",
            "bc120f751c734cd4831efd011aac96ae",
            "8c0472b816474a6bb900f39498f17573",
            "b582d9921a86483f9ec9c0440fadd272",
            "a3ced8ab308f456d84987a3100e5216e",
            "b0ed9e7e72ff4489a80c8a211e6c6a4d",
            "c399424f7bcb4c4f873bdfc9d9a65df7",
            "74f90eda949f450c838dd3d8c96f8a67",
            "cc80be0cad494aca98775008706e8bc5",
            "efe10f322f804ca79ed9d043836368f9",
            "5c380eefbdd94aa6b40b50c2f371dcc6",
            "fd146c9c90164038bbdb4c76e6ef62c0",
            "b37bdbdb0b604bca9831a37b7267f836",
            "af448861f2d24218a9511f2f27ff7300",
            "e8dc0d18d85d41b18968a76f6379fbaa",
            "3159074698844b8b814636551b24221e",
            "71e192357d024adbbed5acb69d3bd734",
            "ca8b1456789149c2b73120f41fbc1b02",
            "c65b21268aa347d99e5f87a7dcb4774a",
            "f47f6570ef8a4da7afb0e82f5c489a25",
            "cd38b41c0f824837b89a927170b830e9",
            "b70d6243c8964f3cb3df985f5638d5ec",
            "2d66f7c7079d42668a08f0b2b494de01",
            "522beb86621f425196c2eb9f8143dc16",
            "aac7528478034449aecccd601b119908",
            "2e3debca4bc04a268307a1da2798f72b",
            "f305fcca67d04ee497f2675874aa4f0b",
            "063e7ae58e804d36864a7e870670b991",
            "40cfcdeb77f34996836e2a13622c9145",
            "b33264b14b6b4f4cbea07d3968abbe5b",
            "c339a6726a084ead93f61d294d7ca181",
            "715ead6d681f48f88f0af5f97b95930e",
            "673432d175844b0f85804b2af87c983f",
            "69adbdf59c7141a09a8decbeb5e56730",
            "f786fd64465642f6b5ab7bf8637f6e97",
            "40885d17e04a4beca782fcabb58a44e5",
            "58a12ae9ce27418794afe78bd3f662aa",
            "67cdf69e6e894a988cb7b537cb5defdd",
            "51ac50678fb840ecb29af1d33b02b7b3",
            "f9e5b937c983460b84d5b305a0597063",
            "1d5bf432763047d9914a6aa45cb10c16",
            "9b7cb8da08b442f59301dc423dee3ef7",
            "660f6d4ae2c34b029fbece09864c3d41",
            "8a57dac8d9b84bf1adb6548fd59b9dfd",
            "156e2a0e98df4dda8ccba343d8ecc224",
            "aeeb5ad68b72489fbbd27e20fa28e9d0",
            "8235b579ba24412491784bded8de1082",
            "c82817f540e0471a8e4400fe3bf02d75",
            "a73b3a1ae01849148431db6431e8c5db",
            "3469dc2113b84e6c9df646c0b7472060",
            "7a5758cac61640399238bd98b9b85049",
            "8bcb5df11d4e462ebb1b0444a06dca99",
            "e583fb9fdb1b41d0a020793d91c43fd1",
            "dd7da0a0da324e6696e3dfed2643abee",
            "c78eabf2acb14d2b952b588504adfa0c",
            "0b7232847ca249acb047cd7691afe4ff",
            "8585dbbffbda4e4faa76f740cb988178",
            "bc52259496f34bf5a12723d24931c8b3",
            "952fb160bb8e4b6f823e77f46514b379",
            "b55bdb89cf5c4d5ba4e0079b193e50fd",
            "4d45406d308040aca0aefd77c968323c",
            "ded750e4650d4ce28fa3e1fb625db1fb",
            "907410617c764dbba44d6c43f1fbf959",
            "e6ff118c55f74aef8e396cfabedf858e",
            "564510801b8d414c8caba435e3fd04bb",
            "fd681f0cdff5419e938112b99280ca8c",
            "ee9dac1fef9f4d6b92f28de1363069cd",
            "b9a3a10d1f7a420e9abd3537f32c74ba",
            "aa5024ea57bf4abc8891eabeddb91cdc",
            "ae9e4391b9734d0598f524c1e0a7beb2",
            "0348b2dda2dc4d6eabdc026086b3a244",
            "6dcca96e72d04afa8be36e460b273bb8",
            "0adc04dcf3b24c52a60d8720152a5261",
            "fbbe7da57802402d8eba922d1bf87b41",
            "7d7cb38b98bb4ccf889bbae125e46df1",
            "97b2222395d744b8989ad5a9d779389f"
          ]
        },
        "outputId": "0d24b9c6-9dc2-4d5d-8414-19bff0452ed5"
      },
      "source": [
        "# Import dataset\n",
        "\n",
        "import tensorflow_datasets as tfds\n",
        "\n",
        "ds, info = tfds.load('oxford_iiit_pet', split=['train'], with_info=True)"
      ],
      "execution_count": null,
      "outputs": [
        {
          "output_type": "stream",
          "name": "stdout",
          "text": [
            "\u001b[1mDownloading and preparing dataset oxford_iiit_pet/3.2.0 (download: 773.52 MiB, generated: 774.69 MiB, total: 1.51 GiB) to /root/tensorflow_datasets/oxford_iiit_pet/3.2.0...\u001b[0m\n"
          ]
        },
        {
          "output_type": "display_data",
          "data": {
            "text/plain": [
              "Dl Completed...: 0 url [00:00, ? url/s]"
            ],
            "application/vnd.jupyter.widget-view+json": {
              "version_major": 2,
              "version_minor": 0,
              "model_id": "24ea81cd830749e4a3935bd5fb18154b"
            }
          },
          "metadata": {}
        },
        {
          "output_type": "display_data",
          "data": {
            "text/plain": [
              "Dl Size...: 0 MiB [00:00, ? MiB/s]"
            ],
            "application/vnd.jupyter.widget-view+json": {
              "version_major": 2,
              "version_minor": 0,
              "model_id": "5c380eefbdd94aa6b40b50c2f371dcc6"
            }
          },
          "metadata": {}
        },
        {
          "output_type": "display_data",
          "data": {
            "text/plain": [
              "Extraction completed...: 0 file [00:00, ? file/s]"
            ],
            "application/vnd.jupyter.widget-view+json": {
              "version_major": 2,
              "version_minor": 0,
              "model_id": "b70d6243c8964f3cb3df985f5638d5ec"
            }
          },
          "metadata": {}
        },
        {
          "output_type": "stream",
          "name": "stdout",
          "text": [
            "\n",
            "\n",
            "\n"
          ]
        },
        {
          "output_type": "display_data",
          "data": {
            "text/plain": [
              "0 examples [00:00, ? examples/s]"
            ],
            "application/vnd.jupyter.widget-view+json": {
              "version_major": 2,
              "version_minor": 0,
              "model_id": "673432d175844b0f85804b2af87c983f"
            }
          },
          "metadata": {}
        },
        {
          "output_type": "stream",
          "name": "stdout",
          "text": [
            "Shuffling and writing examples to /root/tensorflow_datasets/oxford_iiit_pet/3.2.0.incompleteG9DKWA/oxford_iiit_pet-train.tfrecord\n"
          ]
        },
        {
          "output_type": "display_data",
          "data": {
            "text/plain": [
              "  0%|          | 0/3680 [00:00<?, ? examples/s]"
            ],
            "application/vnd.jupyter.widget-view+json": {
              "version_major": 2,
              "version_minor": 0,
              "model_id": "8a57dac8d9b84bf1adb6548fd59b9dfd"
            }
          },
          "metadata": {}
        },
        {
          "output_type": "display_data",
          "data": {
            "text/plain": [
              "0 examples [00:00, ? examples/s]"
            ],
            "application/vnd.jupyter.widget-view+json": {
              "version_major": 2,
              "version_minor": 0,
              "model_id": "c78eabf2acb14d2b952b588504adfa0c"
            }
          },
          "metadata": {}
        },
        {
          "output_type": "stream",
          "name": "stdout",
          "text": [
            "Shuffling and writing examples to /root/tensorflow_datasets/oxford_iiit_pet/3.2.0.incompleteG9DKWA/oxford_iiit_pet-test.tfrecord\n"
          ]
        },
        {
          "output_type": "display_data",
          "data": {
            "text/plain": [
              "  0%|          | 0/3669 [00:00<?, ? examples/s]"
            ],
            "application/vnd.jupyter.widget-view+json": {
              "version_major": 2,
              "version_minor": 0,
              "model_id": "fd681f0cdff5419e938112b99280ca8c"
            }
          },
          "metadata": {}
        },
        {
          "output_type": "stream",
          "name": "stdout",
          "text": [
            "\u001b[1mDataset oxford_iiit_pet downloaded and prepared to /root/tensorflow_datasets/oxford_iiit_pet/3.2.0. Subsequent calls will reuse this data.\u001b[0m\n"
          ]
        }
      ]
    },
    {
      "cell_type": "code",
      "metadata": {
        "id": "U68t4l_fCybm"
      },
      "source": [
        "ds = ds[0]\n",
        "num_examples = info.splits['train'].num_examples\n",
        "NUM_CLASSES = 37"
      ],
      "execution_count": null,
      "outputs": []
    },
    {
      "cell_type": "code",
      "metadata": {
        "id": "1kv8vPhdC_V6"
      },
      "source": [
        "# Split into train and test sets\n",
        "# I have checked that the classes are reasonably balanced.\n",
        "train_split = 0.9\n",
        "num_train = int(train_split * num_examples)\n",
        "ds_train = ds.take(num_train)\n",
        "ds_test = ds.skip(num_train)\n",
        "\n",
        "DATASET_NUM_TRAIN_EXAMPLES = num_examples"
      ],
      "execution_count": null,
      "outputs": []
    },
    {
      "cell_type": "code",
      "metadata": {
        "colab": {
          "base_uri": "https://localhost:8080/"
        },
        "id": "vaeNStn5iGAi",
        "outputId": "1c6f81d6-29d6-4c99-c48e-e7ca3a8ed66c"
      },
      "source": [
        "len(ds_train)"
      ],
      "execution_count": null,
      "outputs": [
        {
          "output_type": "execute_result",
          "data": {
            "text/plain": [
              "3312"
            ]
          },
          "metadata": {},
          "execution_count": 13
        }
      ]
    },
    {
      "cell_type": "code",
      "metadata": {
        "id": "T2iBgkzuE3ns"
      },
      "source": [
        "# Helper functions for loading image\n",
        "\n",
        "def preprocess_image(image):\n",
        "  image = np.array(image)\n",
        "  # reshape into shape [batch_size, height, width, num_channels]\n",
        "  img_reshaped = tf.reshape(image, [1, image.shape[0], image.shape[1], image.shape[2]])\n",
        "  # Use `convert_image_dtype` to convert to floats in the [0,1] range.\n",
        "  image = tf.image.convert_image_dtype(img_reshaped, tf.float32)  \n",
        "  return image"
      ],
      "execution_count": null,
      "outputs": []
    },
    {
      "cell_type": "code",
      "metadata": {
        "id": "MnWNbkAVLkad"
      },
      "source": [
        "# Label names\n",
        "tf_labels = info.features['label'].names"
      ],
      "execution_count": null,
      "outputs": []
    },
    {
      "cell_type": "code",
      "metadata": {
        "colab": {
          "base_uri": "https://localhost:8080/"
        },
        "id": "JEyMhksWSjzW",
        "outputId": "1c08953f-cd4b-4cdd-8e25-773d867508ba"
      },
      "source": [
        "len(info.features['label'].names)"
      ],
      "execution_count": null,
      "outputs": [
        {
          "output_type": "execute_result",
          "data": {
            "text/plain": [
              "37"
            ]
          },
          "metadata": {},
          "execution_count": 16
        }
      ]
    },
    {
      "cell_type": "markdown",
      "metadata": {
        "id": "kTxR5ifUthQo"
      },
      "source": [
        "# Taxonomy"
      ]
    },
    {
      "cell_type": "code",
      "metadata": {
        "id": "aULBpq1hL529"
      },
      "source": [
        "!mkdir BiT\n",
        "%cd BiT\n",
        "!makdir anytree\n",
        "%cd anytree"
      ],
      "execution_count": null,
      "outputs": []
    },
    {
      "cell_type": "code",
      "metadata": {
        "colab": {
          "base_uri": "https://localhost:8080/"
        },
        "id": "mIddLq6PjhPj",
        "outputId": "3361395e-f6a4-4160-8661-a36e54dbe9f0"
      },
      "source": [
        "!git clone https://github.com/ealmenzar/anytree.git\n",
        "#!git pull origin master\n",
        "!python setup.py install"
      ],
      "execution_count": null,
      "outputs": [
        {
          "output_type": "stream",
          "name": "stdout",
          "text": [
            "From https://github.com/ealmenzar/anytree\n",
            " * branch            master     -> FETCH_HEAD\n",
            "Already up to date.\n",
            "running install\n",
            "running bdist_egg\n",
            "running egg_info\n",
            "writing anytree.egg-info/PKG-INFO\n",
            "writing dependency_links to anytree.egg-info/dependency_links.txt\n",
            "writing requirements to anytree.egg-info/requires.txt\n",
            "writing top-level names to anytree.egg-info/top_level.txt\n",
            "reading manifest template 'MANIFEST.in'\n",
            "warning: no previously-included files matching '__pycache__' found anywhere in distribution\n",
            "warning: no previously-included files matching '*.so' found anywhere in distribution\n",
            "warning: no previously-included files matching '*.dylib' found anywhere in distribution\n",
            "warning: no previously-included files matching '.DS_Store' found anywhere in distribution\n",
            "adding license file 'LICENSE'\n",
            "writing manifest file 'anytree.egg-info/SOURCES.txt'\n",
            "installing library code to build/bdist.linux-x86_64/egg\n",
            "running install_lib\n",
            "running build_py\n",
            "creating build/bdist.linux-x86_64/egg\n",
            "creating build/bdist.linux-x86_64/egg/anytree\n",
            "copying build/lib/anytree/dotexport.py -> build/bdist.linux-x86_64/egg/anytree\n",
            "copying build/lib/anytree/__init__.py -> build/bdist.linux-x86_64/egg/anytree\n",
            "copying build/lib/anytree/render.py -> build/bdist.linux-x86_64/egg/anytree\n",
            "copying build/lib/anytree/cachedsearch.py -> build/bdist.linux-x86_64/egg/anytree\n",
            "copying build/lib/anytree/resolver.py -> build/bdist.linux-x86_64/egg/anytree\n",
            "copying build/lib/anytree/search.py -> build/bdist.linux-x86_64/egg/anytree\n",
            "creating build/bdist.linux-x86_64/egg/anytree/node\n",
            "copying build/lib/anytree/node/nodemixin.py -> build/bdist.linux-x86_64/egg/anytree/node\n",
            "copying build/lib/anytree/node/symlinknode.py -> build/bdist.linux-x86_64/egg/anytree/node\n",
            "copying build/lib/anytree/node/exceptions.py -> build/bdist.linux-x86_64/egg/anytree/node\n",
            "copying build/lib/anytree/node/util.py -> build/bdist.linux-x86_64/egg/anytree/node\n",
            "copying build/lib/anytree/node/anynode.py -> build/bdist.linux-x86_64/egg/anytree/node\n",
            "copying build/lib/anytree/node/node.py -> build/bdist.linux-x86_64/egg/anytree/node\n",
            "copying build/lib/anytree/node/symlinknodemixin.py -> build/bdist.linux-x86_64/egg/anytree/node\n",
            "copying build/lib/anytree/node/__init__.py -> build/bdist.linux-x86_64/egg/anytree/node\n",
            "creating build/bdist.linux-x86_64/egg/anytree/iterators\n",
            "copying build/lib/anytree/iterators/__init__.py -> build/bdist.linux-x86_64/egg/anytree/iterators\n",
            "copying build/lib/anytree/iterators/postorderiter.py -> build/bdist.linux-x86_64/egg/anytree/iterators\n",
            "copying build/lib/anytree/iterators/levelorderiter.py -> build/bdist.linux-x86_64/egg/anytree/iterators\n",
            "copying build/lib/anytree/iterators/preorderiter.py -> build/bdist.linux-x86_64/egg/anytree/iterators\n",
            "copying build/lib/anytree/iterators/levelordergroupiter.py -> build/bdist.linux-x86_64/egg/anytree/iterators\n",
            "copying build/lib/anytree/iterators/abstractiter.py -> build/bdist.linux-x86_64/egg/anytree/iterators\n",
            "copying build/lib/anytree/iterators/zigzaggroupiter.py -> build/bdist.linux-x86_64/egg/anytree/iterators\n",
            "creating build/bdist.linux-x86_64/egg/anytree/importer\n",
            "copying build/lib/anytree/importer/jsonimporter.py -> build/bdist.linux-x86_64/egg/anytree/importer\n",
            "copying build/lib/anytree/importer/__init__.py -> build/bdist.linux-x86_64/egg/anytree/importer\n",
            "copying build/lib/anytree/importer/dictimporter.py -> build/bdist.linux-x86_64/egg/anytree/importer\n",
            "creating build/bdist.linux-x86_64/egg/anytree/exporter\n",
            "copying build/lib/anytree/exporter/jsonexporter.py -> build/bdist.linux-x86_64/egg/anytree/exporter\n",
            "copying build/lib/anytree/exporter/dictexporter.py -> build/bdist.linux-x86_64/egg/anytree/exporter\n",
            "copying build/lib/anytree/exporter/__init__.py -> build/bdist.linux-x86_64/egg/anytree/exporter\n",
            "copying build/lib/anytree/exporter/dotexporter.py -> build/bdist.linux-x86_64/egg/anytree/exporter\n",
            "creating build/bdist.linux-x86_64/egg/anytree/util\n",
            "copying build/lib/anytree/util/__init__.py -> build/bdist.linux-x86_64/egg/anytree/util\n",
            "copying build/lib/anytree/walker.py -> build/bdist.linux-x86_64/egg/anytree\n",
            "byte-compiling build/bdist.linux-x86_64/egg/anytree/dotexport.py to dotexport.cpython-37.pyc\n",
            "byte-compiling build/bdist.linux-x86_64/egg/anytree/__init__.py to __init__.cpython-37.pyc\n",
            "byte-compiling build/bdist.linux-x86_64/egg/anytree/render.py to render.cpython-37.pyc\n",
            "byte-compiling build/bdist.linux-x86_64/egg/anytree/cachedsearch.py to cachedsearch.cpython-37.pyc\n",
            "byte-compiling build/bdist.linux-x86_64/egg/anytree/resolver.py to resolver.cpython-37.pyc\n",
            "byte-compiling build/bdist.linux-x86_64/egg/anytree/search.py to search.cpython-37.pyc\n",
            "byte-compiling build/bdist.linux-x86_64/egg/anytree/node/nodemixin.py to nodemixin.cpython-37.pyc\n",
            "byte-compiling build/bdist.linux-x86_64/egg/anytree/node/symlinknode.py to symlinknode.cpython-37.pyc\n",
            "byte-compiling build/bdist.linux-x86_64/egg/anytree/node/exceptions.py to exceptions.cpython-37.pyc\n",
            "byte-compiling build/bdist.linux-x86_64/egg/anytree/node/util.py to util.cpython-37.pyc\n",
            "byte-compiling build/bdist.linux-x86_64/egg/anytree/node/anynode.py to anynode.cpython-37.pyc\n",
            "byte-compiling build/bdist.linux-x86_64/egg/anytree/node/node.py to node.cpython-37.pyc\n",
            "byte-compiling build/bdist.linux-x86_64/egg/anytree/node/symlinknodemixin.py to symlinknodemixin.cpython-37.pyc\n",
            "byte-compiling build/bdist.linux-x86_64/egg/anytree/node/__init__.py to __init__.cpython-37.pyc\n",
            "byte-compiling build/bdist.linux-x86_64/egg/anytree/iterators/__init__.py to __init__.cpython-37.pyc\n",
            "byte-compiling build/bdist.linux-x86_64/egg/anytree/iterators/postorderiter.py to postorderiter.cpython-37.pyc\n",
            "byte-compiling build/bdist.linux-x86_64/egg/anytree/iterators/levelorderiter.py to levelorderiter.cpython-37.pyc\n",
            "byte-compiling build/bdist.linux-x86_64/egg/anytree/iterators/preorderiter.py to preorderiter.cpython-37.pyc\n",
            "byte-compiling build/bdist.linux-x86_64/egg/anytree/iterators/levelordergroupiter.py to levelordergroupiter.cpython-37.pyc\n",
            "byte-compiling build/bdist.linux-x86_64/egg/anytree/iterators/abstractiter.py to abstractiter.cpython-37.pyc\n",
            "byte-compiling build/bdist.linux-x86_64/egg/anytree/iterators/zigzaggroupiter.py to zigzaggroupiter.cpython-37.pyc\n",
            "byte-compiling build/bdist.linux-x86_64/egg/anytree/importer/jsonimporter.py to jsonimporter.cpython-37.pyc\n",
            "byte-compiling build/bdist.linux-x86_64/egg/anytree/importer/__init__.py to __init__.cpython-37.pyc\n",
            "byte-compiling build/bdist.linux-x86_64/egg/anytree/importer/dictimporter.py to dictimporter.cpython-37.pyc\n",
            "byte-compiling build/bdist.linux-x86_64/egg/anytree/exporter/jsonexporter.py to jsonexporter.cpython-37.pyc\n",
            "byte-compiling build/bdist.linux-x86_64/egg/anytree/exporter/dictexporter.py to dictexporter.cpython-37.pyc\n",
            "byte-compiling build/bdist.linux-x86_64/egg/anytree/exporter/__init__.py to __init__.cpython-37.pyc\n",
            "byte-compiling build/bdist.linux-x86_64/egg/anytree/exporter/dotexporter.py to dotexporter.cpython-37.pyc\n",
            "byte-compiling build/bdist.linux-x86_64/egg/anytree/util/__init__.py to __init__.cpython-37.pyc\n",
            "byte-compiling build/bdist.linux-x86_64/egg/anytree/walker.py to walker.cpython-37.pyc\n",
            "installing package data to build/bdist.linux-x86_64/egg\n",
            "running install_data\n",
            "copying LICENSE -> build/bdist.linux-x86_64/egg/\n",
            "creating build/bdist.linux-x86_64/egg/EGG-INFO\n",
            "copying anytree.egg-info/PKG-INFO -> build/bdist.linux-x86_64/egg/EGG-INFO\n",
            "copying anytree.egg-info/SOURCES.txt -> build/bdist.linux-x86_64/egg/EGG-INFO\n",
            "copying anytree.egg-info/dependency_links.txt -> build/bdist.linux-x86_64/egg/EGG-INFO\n",
            "copying anytree.egg-info/requires.txt -> build/bdist.linux-x86_64/egg/EGG-INFO\n",
            "copying anytree.egg-info/top_level.txt -> build/bdist.linux-x86_64/egg/EGG-INFO\n",
            "zip_safe flag not set; analyzing archive contents...\n",
            "creating 'dist/anytree-2.8.0-py3.7.egg' and adding 'build/bdist.linux-x86_64/egg' to it\n",
            "removing 'build/bdist.linux-x86_64/egg' (and everything under it)\n",
            "Processing anytree-2.8.0-py3.7.egg\n",
            "Copying anytree-2.8.0-py3.7.egg to /usr/local/lib/python3.7/dist-packages\n",
            "Adding anytree 2.8.0 to easy-install.pth file\n",
            "\n",
            "Installed /usr/local/lib/python3.7/dist-packages/anytree-2.8.0-py3.7.egg\n",
            "Processing dependencies for anytree==2.8.0\n",
            "Searching for six==1.15.0\n",
            "Best match: six 1.15.0\n",
            "Adding six 1.15.0 to easy-install.pth file\n",
            "\n",
            "Using /usr/local/lib/python3.7/dist-packages\n",
            "Finished processing dependencies for anytree==2.8.0\n"
          ]
        }
      ]
    },
    {
      "cell_type": "code",
      "metadata": {
        "colab": {
          "base_uri": "https://localhost:8080/"
        },
        "id": "G3LKOT8GpTBV",
        "outputId": "40eecd7b-4af0-4300-c18e-9a2f28db09c1"
      },
      "source": [
        "tf_labels"
      ],
      "execution_count": null,
      "outputs": [
        {
          "output_type": "execute_result",
          "data": {
            "text/plain": [
              "['Abyssinian',\n",
              " 'american_bulldog',\n",
              " 'american_pit_bull_terrier',\n",
              " 'basset_hound',\n",
              " 'beagle',\n",
              " 'Bengal',\n",
              " 'Birman',\n",
              " 'Bombay',\n",
              " 'boxer',\n",
              " 'British_Shorthair',\n",
              " 'chihuahua',\n",
              " 'Egyptian_Mau',\n",
              " 'english_cocker_spaniel',\n",
              " 'english_setter',\n",
              " 'german_shorthaired',\n",
              " 'great_pyrenees',\n",
              " 'havanese',\n",
              " 'japanese_chin',\n",
              " 'keeshond',\n",
              " 'leonberger',\n",
              " 'Maine_Coon',\n",
              " 'miniature_pinscher',\n",
              " 'newfoundland',\n",
              " 'Persian',\n",
              " 'pomeranian',\n",
              " 'pug',\n",
              " 'Ragdoll',\n",
              " 'Russian_Blue',\n",
              " 'saint_bernard',\n",
              " 'samoyed',\n",
              " 'scottish_terrier',\n",
              " 'shiba_inu',\n",
              " 'Siamese',\n",
              " 'Sphynx',\n",
              " 'staffordshire_bull_terrier',\n",
              " 'wheaten_terrier',\n",
              " 'yorkshire_terrier']"
            ]
          },
          "metadata": {},
          "execution_count": 19
        }
      ]
    },
    {
      "cell_type": "code",
      "metadata": {
        "id": "ZKBDT_4YbuX5",
        "colab": {
          "base_uri": "https://localhost:8080/"
        },
        "outputId": "467922a4-4b23-49d1-d9a7-fab9929f1de2"
      },
      "source": [
        "import numpy as np\n",
        "\n",
        "label_array = np.array([33, 1, 8, 17, 18, 30, 27, 36, 2, 31, 22, 32, 21, 19, 20, 3, 23, 24, 13, 4, 29, 5, 6, 26, 14, 25, 28, 34, 7, 15, 9, 16, 37, 35, 10, 11, 12])\n",
        "label_array = label_array - 1\n",
        "label_array"
      ],
      "execution_count": null,
      "outputs": [
        {
          "output_type": "execute_result",
          "data": {
            "text/plain": [
              "array([32,  0,  7, 16, 17, 29, 26, 35,  1, 30, 21, 31, 20, 18, 19,  2, 22,\n",
              "       23, 12,  3, 28,  4,  5, 25, 13, 24, 27, 33,  6, 14,  8, 15, 36, 34,\n",
              "        9, 10, 11])"
            ]
          },
          "metadata": {},
          "execution_count": 20
        }
      ]
    },
    {
      "cell_type": "code",
      "metadata": {
        "id": "WoHK-eTt-Cg_"
      },
      "source": [
        "from anytree import Node\n",
        "\n",
        "cats_dogs = Node(\"Cats&Dogs\")\n",
        "\n",
        "#DOG\n",
        "dog = Node(\"dog\", parent=cats_dogs)\n",
        "\n",
        "# DOG - GROUP 2\n",
        "dog2 = Node(\"dog-2\", parent=dog)\n",
        "american_bulldog = Node(\"american_bulldog\", parent=dog2)                    # 1 - \n",
        "boxer = Node(\"boxer\", parent=dog2)                                          # 2 -\n",
        "great_pyrenees = Node(\"great_pyrenees\", parent=dog2)                        # 3 -\n",
        "leonberger = Node(\"leonberger\", parent=dog2)                                # 4 -\n",
        "miniature_pinscher = Node(\"miniature_pinscher\", parent=dog2)                # 5 -\n",
        "newfoundland = Node(\"newfoundland\", parent=dog2)                            # 6 -\n",
        "saint_bernard = Node(\"saint_bernard\", parent=dog2)                          # 7 -\n",
        "\n",
        "# DOG - GROUP 3\n",
        "dog3 = Node(\"dog-3\", parent=dog)\n",
        "american_pit_bull_terrier = Node(\"american_pit_bull_terrier\", parent=dog3)  # 8 - \n",
        "scottish_terrier = Node(\"scottish_terrier\", parent=dog3)                    # 9 -\n",
        "staffordshire_bull_terrier = Node(\"staffordshire_bull_terrier\", parent=dog3)# 10 -\n",
        "wheaten_terrier = Node(\"wheaten_terrier\", parent=dog3)                      # 11 -\n",
        "yorkshire_terrier = Node(\"yorkshire_terrier\", parent=dog3)                  # 12\n",
        "\n",
        "# DOG - GROUP 5\n",
        "dog5 = Node(\"dog-5\", parent=dog)\n",
        "keeshond = Node(\"keeshond\", parent=dog5)                                    # 13 -\n",
        "pomeranian = Node(\"pomeranian\", parent=dog5)                                # 14 -\n",
        "samoyed = Node(\"samoyed\", parent=dog5)                                      # 15 -\n",
        "shiba_inu = Node(\"shiba_inu\", parent=dog5)                                  # 16 -\n",
        "\n",
        "# DOG - GROUP 6\n",
        "dog6 = Node(\"dog-6\", parent=dog)\n",
        "basset_hound = Node(\"basset_hound\", parent=dog6)                            # 17 -\n",
        "beagle = Node(\"beagle\", parent=dog6)                                        # 18 -\n",
        "\n",
        "# DOG - GROUP 7\n",
        "dog7 = Node(\"dog-7\", parent=dog)\n",
        "english_setter = Node(\"english_setter\", parent=dog7)                        # 19 -\n",
        "german_shorthaired = Node(\"german_shorthaired\", parent=dog7)                # 20 -\n",
        "\n",
        "# DOG - GROUP 8\n",
        "dog8 = Node(\"dog-8\", parent=dog)\n",
        "english_cocker_spaniel = Node(\"english_cocker_spaniel\", parent=dog8)        # 21 -\n",
        "\n",
        "# DOG - GROUP 9\n",
        "dog9 = Node(\"dog-9\", parent=dog)\n",
        "chihuahua = Node(\"chihuahua\", parent=dog9)                                  # 22 -\n",
        "havanese = Node(\"havanese\", parent=dog9)                                    # 23 -\n",
        "japanese_chin = Node(\"japanese_chin\", parent=dog9)                          # 24 -\n",
        "pug = Node(\"pug\", parent=dog9)                                              # 25 -\n",
        "\n",
        "# CAT\n",
        "cat = Node(\"cat\", parent=cats_dogs)\n",
        "\n",
        "# CAT - GROUP 1A\n",
        "cat1A = Node(\"cat-1A\", parent=cat)\n",
        "Persian = Node(\"Persian\", parent=cat1A)                                     # 26 -\n",
        "\n",
        "# CAT - GROUP 1B\n",
        "cat1B = Node(\"cat-1B\", parent=cat)\n",
        "Birman = Node(\"Birman\", parent=cat1B)                                       # 27 - \n",
        "Ragdoll = Node(\"Ragdoll\", parent=cat1B)                                     # 28 -\n",
        "\n",
        "# CAT - GROUP 2\n",
        "cat2 = Node(\"cat-2\", parent=cat)\n",
        "Maine_Coon = Node(\"Maine_Coon\", parent=cat2)                                # 29 -\n",
        "\n",
        "# CAT - GROUP 3\n",
        "cat3 = Node(\"cat-3\", parent=cat)\n",
        "Bengal = Node(\"Bengal\", parent=cat3)                                        # 30 -\n",
        "British_Shorthair = Node(\"British_Shorthair\", parent=cat3)                  # 31 -\n",
        "Egyptian_Mau = Node(\"Egyptian_Mau\", parent=cat3)                            # 32 -\n",
        "\n",
        "# CAT - GROUP 4C\n",
        "cat4C = Node(\"cat-4C\", parent=cat)\n",
        "Abyssinian = Node(\"Abyssinian\", parent=cat4C)                               # 33 -\n",
        "Russian_Blue = Node(\"Russian_Blue\", parent=cat4C)                           # 34 -\n",
        "Sphynx = Node(\"Sphynx\", parent=cat4C)                                       # 35 -\n",
        "Bombay = Node(\"Bombay\", parent=cat4C)                                       # 36 -\n",
        "\n",
        "# CAT - GROUP 4D\n",
        "cat4D = Node(\"cat-4D\", parent=cat)\n",
        "Siamese = Node(\"Siamese\", parent=cat4D)                                     # 37 -"
      ],
      "execution_count": null,
      "outputs": []
    },
    {
      "cell_type": "markdown",
      "metadata": {
        "id": "2U_yS9zJtplG"
      },
      "source": [
        "# Obtain results"
      ]
    },
    {
      "cell_type": "code",
      "metadata": {
        "id": "EoHn9b6pFIbA"
      },
      "source": [
        "# Plotting helper functions\n",
        "# Credits to Xiaohua Zhai, Lucas Beyer and Alex Kolesnikov from Brain Zurich, Google Research\n",
        "\n",
        "# Show the MAX_PREDS highest scoring labels:\n",
        "MAX_PREDS = 6\n",
        "# Do not show labels with lower score than this:\n",
        "MIN_SCORE = 0.5 \n",
        "\n",
        "from anytree import Walker\n",
        "from anytree import find_by_attr\n",
        "\n",
        "\n",
        "def show_preds(logits, image, matrix, correct_label=None, tf_logits=False):\n",
        "  if len(logits.shape) > 1:\n",
        "      logits = tf.reshape(logits, [-1])\n",
        "  sorted_logits = np.argsort(logits)[-MAX_PREDS::][::-1]\n",
        "  d = 0\n",
        "  scr = 0\n",
        "  if(sorted_logits[0] != correct_label):                          # only if an error is found, plot\n",
        "    s = find_by_attr(cats_dogs, tf_labels[sorted_logits[0]])\n",
        "    if s is None: print(tf_labels[sorted_logits[0]])\n",
        "    e = find_by_attr(cats_dogs, tf_labels[correct_label])\n",
        "    if e is None: print(tf_labels[correct_label])\n",
        "    w = Walker()\n",
        "    d = w.distance(s, e)\n",
        "    prd = label_array[sorted_logits[0]]\n",
        "    orig = label_array[correct_label]\n",
        "    #matrix[prd][orig] += 1\n",
        "    matrix[orig][prd] += 1\n",
        "    fig, axes = plt.subplots(1, 2, figsize=(7, 4), squeeze=False)\n",
        "    ax1, ax2 = axes[0]\n",
        "    ax1.axis('off')\n",
        "    ax1.imshow(image)\n",
        "    \n",
        "    if correct_label is not None:\n",
        "      ax1.set_title(tf_labels[correct_label]+\" (\"+str(d)+\")\")\n",
        "\n",
        "    classes = []\n",
        "    scores = []\n",
        "    scores2 = []\n",
        "    logits_max = np.max(logits)\n",
        "    softmax_denominator = np.sum(np.exp(logits - logits_max))\n",
        "    for index, j in enumerate(np.argsort(logits)[-MAX_PREDS::][::-1]):\n",
        "      score = 1.0/(1.0 + np.exp(-logits[j]))\n",
        "      if score < MIN_SCORE: break\n",
        "      if not tf_logits:\n",
        "        # predicting in imagenet label space\n",
        "        classes.append(imagenet_int_to_str[j])\n",
        "      else:\n",
        "        # predicting in the label space\n",
        "        sc = round(np.exp(logits[j] - logits_max)/softmax_denominator*100, 2)\n",
        "        classes.append(tf_labels[j]+\" (\"+str(sc)+\"%)\")\n",
        "      scores.append(np.exp(logits[j] - logits_max)/softmax_denominator*100)\n",
        "      scores2.append(score*100)\n",
        "      #scores3.append(np.exp(logits[j] - logits_max)/softmax_denominator*100)\n",
        "      scr = scores[0]\n",
        "      \n",
        "      ax2.barh(np.arange(len(scores)) + 0.1, scores)\n",
        "      # ax2.barh(np.arange(len(scores2)) + 0.1, scores2)\n",
        "      ax2.set_xlim(0, 100)\n",
        "      ax2.set_yticks(np.arange(len(scores)))\n",
        "      ax2.yaxis.set_ticks_position('right')\n",
        "      ax2.set_yticklabels(classes, rotation=0, fontsize=14)\n",
        "      ax2.invert_xaxis()\n",
        "      ax2.invert_yaxis()\n",
        "      ax2.set_xlabel('Prediction probabilities', fontsize=11)\n",
        "      \n",
        "      #plt.savefig(tf_labels[sorted_logits[0]]+\"_\"+tf_labels[correct_label]+\"_\"+str(int(scores[0]))+\".png\", bbox_inches='tight')\n",
        "      #plt.show()  # ok\n",
        "      plt.close(fig)\n",
        "  \n",
        "  return d, scr\n",
        "    "
      ],
      "execution_count": null,
      "outputs": []
    },
    {
      "cell_type": "code",
      "source": [
        "%pwd"
      ],
      "metadata": {
        "colab": {
          "base_uri": "https://localhost:8080/",
          "height": 35
        },
        "id": "MW1os3B2gM4u",
        "outputId": "0b184437-5546-4d64-d717-2d4c068b74c3"
      },
      "execution_count": null,
      "outputs": [
        {
          "output_type": "execute_result",
          "data": {
            "text/plain": [
              "'/content/gdrive/Shareddrives/[UPF]ThesisMarina/BiT/anytree'"
            ],
            "application/vnd.google.colaboratory.intrinsic+json": {
              "type": "string"
            }
          },
          "metadata": {},
          "execution_count": 23
        }
      ]
    },
    {
      "cell_type": "code",
      "metadata": {
        "colab": {
          "base_uri": "https://localhost:8080/"
        },
        "id": "N3OHRlEWn8tD",
        "outputId": "5bb5b21f-c8e2-4d79-f978-f7f01f57fb9f"
      },
      "source": [
        "%cd ../\n",
        "!makdir results\n",
        "%cd results"
      ],
      "execution_count": null,
      "outputs": [
        {
          "output_type": "stream",
          "name": "stdout",
          "text": [
            "/content/gdrive/Shareddrives/[UPF]ThesisMarina/BiT/results\n"
          ]
        }
      ]
    },
    {
      "cell_type": "code",
      "metadata": {
        "id": "dior4TkTRrdT"
      },
      "source": [
        "import numpy as np\n",
        "import matplotlib.pyplot as plt\n",
        "\n",
        "N = 37\n",
        "errors_matrix = np.zeros((N,N))\n",
        "\n",
        "# Visualise predictions from new model\n",
        "errors = []\n",
        "scores = []\n",
        "for features in ds_train.take(3312):  # 3312\n",
        "  image = features['image']\n",
        "  image = preprocess_image(image)\n",
        "\n",
        "  # Run model on image\n",
        "  logits = module(image)\n",
        "\n",
        "  # Show image and predictions\n",
        "  d, score = show_preds(logits['logits'], image[0], errors_matrix, correct_label=features['label'].numpy(), tf_logits=True)\n",
        "  if d is not 0: errors.append(d)\n",
        "  if score is not 0: scores.append(score)"
      ],
      "execution_count": null,
      "outputs": []
    },
    {
      "cell_type": "code",
      "metadata": {
        "colab": {
          "base_uri": "https://localhost:8080/"
        },
        "id": "NnSXy5Y54J_r",
        "outputId": "4f7a998c-cf11-4910-858d-a373c8cca854"
      },
      "source": [
        "sorted_labels = [\"\" for x in range(37)]\n",
        "print(len(sorted_labels))\n",
        "j = 0\n",
        "for i in label_array:\n",
        "  sorted_labels[i] = tf_labels[j]\n",
        "  j += 1\n",
        "\n",
        "sorted_labels"
      ],
      "execution_count": null,
      "outputs": [
        {
          "output_type": "stream",
          "name": "stdout",
          "text": [
            "37\n"
          ]
        },
        {
          "output_type": "execute_result",
          "data": {
            "text/plain": [
              "['american_bulldog',\n",
              " 'boxer',\n",
              " 'great_pyrenees',\n",
              " 'leonberger',\n",
              " 'miniature_pinscher',\n",
              " 'newfoundland',\n",
              " 'saint_bernard',\n",
              " 'american_pit_bull_terrier',\n",
              " 'scottish_terrier',\n",
              " 'staffordshire_bull_terrier',\n",
              " 'wheaten_terrier',\n",
              " 'yorkshire_terrier',\n",
              " 'keeshond',\n",
              " 'pomeranian',\n",
              " 'samoyed',\n",
              " 'shiba_inu',\n",
              " 'basset_hound',\n",
              " 'beagle',\n",
              " 'english_setter',\n",
              " 'german_shorthaired',\n",
              " 'english_cocker_spaniel',\n",
              " 'chihuahua',\n",
              " 'havanese',\n",
              " 'japanese_chin',\n",
              " 'pug',\n",
              " 'Persian',\n",
              " 'Birman',\n",
              " 'Ragdoll',\n",
              " 'Maine_Coon',\n",
              " 'Bengal',\n",
              " 'British_Shorthair',\n",
              " 'Egyptian_Mau',\n",
              " 'Abyssinian',\n",
              " 'Russian_Blue',\n",
              " 'Sphynx',\n",
              " 'Bombay',\n",
              " 'Siamese']"
            ]
          },
          "metadata": {},
          "execution_count": 27
        }
      ]
    },
    {
      "cell_type": "code",
      "metadata": {
        "colab": {
          "base_uri": "https://localhost:8080/"
        },
        "id": "igxPXw1tlVI9",
        "outputId": "7ed0774c-2b69-432f-8ab7-f61e313c3557"
      },
      "source": [
        "errors_matrix.size\n",
        "#errors_matrix"
      ],
      "execution_count": null,
      "outputs": [
        {
          "output_type": "execute_result",
          "data": {
            "text/plain": [
              "1369"
            ]
          },
          "metadata": {},
          "execution_count": 31
        }
      ]
    },
    {
      "cell_type": "code",
      "metadata": {
        "colab": {
          "base_uri": "https://localhost:8080/",
          "height": 669
        },
        "id": "FrGNVqKx2Sbl",
        "outputId": "630a98be-913d-4379-aa2f-ac5dacb077c0"
      },
      "source": [
        "cfig, ax = plt.subplots(figsize=(10,9)) \n",
        "ax.matshow(errors_matrix, cmap=plt.cm.Blues)\n",
        "ax.set_xticks(np.arange(0, 37))\n",
        "ax.set_xticklabels(sorted_labels)\n",
        "ax.set_ylabel(\"True Class\", fontweight='bold', fontsize=14, labelpad=15)\n",
        "ax.set_xlabel(\"Predicted Class\", fontweight='bold', fontsize=14, labelpad=15)\n",
        "plt.setp(ax.get_xticklabels(), rotation=-45, ha=\"right\",\n",
        "         rotation_mode=\"anchor\")\n",
        "ax.set_yticks(np.arange(0, 37))\n",
        "ax.set_yticklabels(sorted_labels)\n",
        "plt.axvline(x=24.5, color='black')\n",
        "plt.axhline(y=24.5, color='black')\n",
        "#fig.colorbar(ax)"
      ],
      "execution_count": null,
      "outputs": [
        {
          "output_type": "execute_result",
          "data": {
            "text/plain": [
              "<matplotlib.lines.Line2D at 0x7fb10642c910>"
            ]
          },
          "metadata": {},
          "execution_count": 37
        },
        {
          "output_type": "display_data",
          "data": {
            "text/plain": [
              "<Figure size 720x648 with 1 Axes>"
            ],
            "image/png": "[encoded data removed]"
          },
          "metadata": {
            "needs_background": "light"
          }
        }
      ]
    }
  ]
}